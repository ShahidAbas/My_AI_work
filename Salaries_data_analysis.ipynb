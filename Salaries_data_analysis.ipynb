{
 "cells": [
  {
   "cell_type": "code",
   "execution_count": 34,
   "id": "8f5b71bf",
   "metadata": {
    "_cell_guid": "b1076dfc-b9ad-4769-8c92-a6c4dae69d19",
    "_uuid": "8f2839f25d086af736a60e9eeb907d3b93b6e0e5",
    "execution": {
     "iopub.execute_input": "2023-10-04T09:50:10.748065Z",
     "iopub.status.busy": "2023-10-04T09:50:10.747451Z",
     "iopub.status.idle": "2023-10-04T09:50:12.698379Z",
     "shell.execute_reply": "2023-10-04T09:50:12.697294Z"
    },
    "papermill": {
     "duration": 1.968733,
     "end_time": "2023-10-04T09:50:12.700749",
     "exception": false,
     "start_time": "2023-10-04T09:50:10.732016",
     "status": "completed"
    },
    "tags": []
   },
   "outputs": [],
   "source": [
    "import numpy as np\n",
    "import pandas as pd \n",
    "import matplotlib.pyplot as plt\n",
    "import seaborn as sns"
   ]
  },
  {
   "cell_type": "code",
   "execution_count": 35,
   "id": "dce65c6d",
   "metadata": {
    "execution": {
     "iopub.execute_input": "2023-10-04T09:50:12.729396Z",
     "iopub.status.busy": "2023-10-04T09:50:12.728522Z",
     "iopub.status.idle": "2023-10-04T09:50:13.635671Z",
     "shell.execute_reply": "2023-10-04T09:50:13.634528Z"
    },
    "papermill": {
     "duration": 0.924399,
     "end_time": "2023-10-04T09:50:13.638345",
     "exception": false,
     "start_time": "2023-10-04T09:50:12.713946",
     "status": "completed"
    },
    "tags": []
   },
   "outputs": [
    {
     "name": "stderr",
     "output_type": "stream",
     "text": [
      "C:\\Users\\hp\\AppData\\Local\\Temp\\ipykernel_13504\\36143332.py:1: DtypeWarning: Columns (3,4,5,6,12) have mixed types. Specify dtype option on import or set low_memory=False.\n",
      "  df= pd.read_csv('../Salaries.csv')\n"
     ]
    }
   ],
   "source": [
    "df= pd.read_csv('../Salaries.csv')"
   ]
  },
  {
   "cell_type": "code",
   "execution_count": 36,
   "id": "6d19f62d",
   "metadata": {
    "execution": {
     "iopub.execute_input": "2023-10-04T09:50:13.667901Z",
     "iopub.status.busy": "2023-10-04T09:50:13.667512Z",
     "iopub.status.idle": "2023-10-04T09:50:13.697107Z",
     "shell.execute_reply": "2023-10-04T09:50:13.696322Z"
    },
    "papermill": {
     "duration": 0.047092,
     "end_time": "2023-10-04T09:50:13.699277",
     "exception": false,
     "start_time": "2023-10-04T09:50:13.652185",
     "status": "completed"
    },
    "tags": []
   },
   "outputs": [
    {
     "data": {
      "text/html": [
       "<div>\n",
       "<style scoped>\n",
       "    .dataframe tbody tr th:only-of-type {\n",
       "        vertical-align: middle;\n",
       "    }\n",
       "\n",
       "    .dataframe tbody tr th {\n",
       "        vertical-align: top;\n",
       "    }\n",
       "\n",
       "    .dataframe thead th {\n",
       "        text-align: right;\n",
       "    }\n",
       "</style>\n",
       "<table border=\"1\" class=\"dataframe\">\n",
       "  <thead>\n",
       "    <tr style=\"text-align: right;\">\n",
       "      <th></th>\n",
       "      <th>Id</th>\n",
       "      <th>EmployeeName</th>\n",
       "      <th>JobTitle</th>\n",
       "      <th>BasePay</th>\n",
       "      <th>OvertimePay</th>\n",
       "      <th>OtherPay</th>\n",
       "      <th>Benefits</th>\n",
       "      <th>TotalPay</th>\n",
       "      <th>TotalPayBenefits</th>\n",
       "      <th>Year</th>\n",
       "      <th>Notes</th>\n",
       "      <th>Agency</th>\n",
       "      <th>Status</th>\n",
       "    </tr>\n",
       "  </thead>\n",
       "  <tbody>\n",
       "    <tr>\n",
       "      <th>0</th>\n",
       "      <td>1</td>\n",
       "      <td>NATHANIEL FORD</td>\n",
       "      <td>GENERAL MANAGER-METROPOLITAN TRANSIT AUTHORITY</td>\n",
       "      <td>167411.18</td>\n",
       "      <td>0.0</td>\n",
       "      <td>400184.25</td>\n",
       "      <td>NaN</td>\n",
       "      <td>567595.43</td>\n",
       "      <td>567595.43</td>\n",
       "      <td>2011</td>\n",
       "      <td>NaN</td>\n",
       "      <td>San Francisco</td>\n",
       "      <td>NaN</td>\n",
       "    </tr>\n",
       "    <tr>\n",
       "      <th>1</th>\n",
       "      <td>2</td>\n",
       "      <td>GARY JIMENEZ</td>\n",
       "      <td>CAPTAIN III (POLICE DEPARTMENT)</td>\n",
       "      <td>155966.02</td>\n",
       "      <td>245131.88</td>\n",
       "      <td>137811.38</td>\n",
       "      <td>NaN</td>\n",
       "      <td>538909.28</td>\n",
       "      <td>538909.28</td>\n",
       "      <td>2011</td>\n",
       "      <td>NaN</td>\n",
       "      <td>San Francisco</td>\n",
       "      <td>NaN</td>\n",
       "    </tr>\n",
       "    <tr>\n",
       "      <th>2</th>\n",
       "      <td>3</td>\n",
       "      <td>ALBERT PARDINI</td>\n",
       "      <td>CAPTAIN III (POLICE DEPARTMENT)</td>\n",
       "      <td>212739.13</td>\n",
       "      <td>106088.18</td>\n",
       "      <td>16452.6</td>\n",
       "      <td>NaN</td>\n",
       "      <td>335279.91</td>\n",
       "      <td>335279.91</td>\n",
       "      <td>2011</td>\n",
       "      <td>NaN</td>\n",
       "      <td>San Francisco</td>\n",
       "      <td>NaN</td>\n",
       "    </tr>\n",
       "    <tr>\n",
       "      <th>3</th>\n",
       "      <td>4</td>\n",
       "      <td>CHRISTOPHER CHONG</td>\n",
       "      <td>WIRE ROPE CABLE MAINTENANCE MECHANIC</td>\n",
       "      <td>77916.0</td>\n",
       "      <td>56120.71</td>\n",
       "      <td>198306.9</td>\n",
       "      <td>NaN</td>\n",
       "      <td>332343.61</td>\n",
       "      <td>332343.61</td>\n",
       "      <td>2011</td>\n",
       "      <td>NaN</td>\n",
       "      <td>San Francisco</td>\n",
       "      <td>NaN</td>\n",
       "    </tr>\n",
       "    <tr>\n",
       "      <th>4</th>\n",
       "      <td>5</td>\n",
       "      <td>PATRICK GARDNER</td>\n",
       "      <td>DEPUTY CHIEF OF DEPARTMENT,(FIRE DEPARTMENT)</td>\n",
       "      <td>134401.6</td>\n",
       "      <td>9737.0</td>\n",
       "      <td>182234.59</td>\n",
       "      <td>NaN</td>\n",
       "      <td>326373.19</td>\n",
       "      <td>326373.19</td>\n",
       "      <td>2011</td>\n",
       "      <td>NaN</td>\n",
       "      <td>San Francisco</td>\n",
       "      <td>NaN</td>\n",
       "    </tr>\n",
       "  </tbody>\n",
       "</table>\n",
       "</div>"
      ],
      "text/plain": [
       "   Id       EmployeeName                                        JobTitle  \\\n",
       "0   1     NATHANIEL FORD  GENERAL MANAGER-METROPOLITAN TRANSIT AUTHORITY   \n",
       "1   2       GARY JIMENEZ                 CAPTAIN III (POLICE DEPARTMENT)   \n",
       "2   3     ALBERT PARDINI                 CAPTAIN III (POLICE DEPARTMENT)   \n",
       "3   4  CHRISTOPHER CHONG            WIRE ROPE CABLE MAINTENANCE MECHANIC   \n",
       "4   5    PATRICK GARDNER    DEPUTY CHIEF OF DEPARTMENT,(FIRE DEPARTMENT)   \n",
       "\n",
       "     BasePay OvertimePay   OtherPay Benefits   TotalPay  TotalPayBenefits  \\\n",
       "0  167411.18         0.0  400184.25      NaN  567595.43         567595.43   \n",
       "1  155966.02   245131.88  137811.38      NaN  538909.28         538909.28   \n",
       "2  212739.13   106088.18    16452.6      NaN  335279.91         335279.91   \n",
       "3    77916.0    56120.71   198306.9      NaN  332343.61         332343.61   \n",
       "4   134401.6      9737.0  182234.59      NaN  326373.19         326373.19   \n",
       "\n",
       "   Year  Notes         Agency Status  \n",
       "0  2011    NaN  San Francisco    NaN  \n",
       "1  2011    NaN  San Francisco    NaN  \n",
       "2  2011    NaN  San Francisco    NaN  \n",
       "3  2011    NaN  San Francisco    NaN  \n",
       "4  2011    NaN  San Francisco    NaN  "
      ]
     },
     "execution_count": 36,
     "metadata": {},
     "output_type": "execute_result"
    }
   ],
   "source": [
    "df.head()"
   ]
  },
  {
   "cell_type": "code",
   "execution_count": 37,
   "id": "5b9d4fb9",
   "metadata": {
    "execution": {
     "iopub.execute_input": "2023-10-04T09:50:13.728743Z",
     "iopub.status.busy": "2023-10-04T09:50:13.727936Z",
     "iopub.status.idle": "2023-10-04T09:50:13.796886Z",
     "shell.execute_reply": "2023-10-04T09:50:13.795392Z"
    },
    "papermill": {
     "duration": 0.086147,
     "end_time": "2023-10-04T09:50:13.799097",
     "exception": false,
     "start_time": "2023-10-04T09:50:13.712950",
     "status": "completed"
    },
    "tags": []
   },
   "outputs": [
    {
     "name": "stdout",
     "output_type": "stream",
     "text": [
      "<class 'pandas.core.frame.DataFrame'>\n",
      "RangeIndex: 148654 entries, 0 to 148653\n",
      "Data columns (total 13 columns):\n",
      " #   Column            Non-Null Count   Dtype  \n",
      "---  ------            --------------   -----  \n",
      " 0   Id                148654 non-null  int64  \n",
      " 1   EmployeeName      148654 non-null  object \n",
      " 2   JobTitle          148654 non-null  object \n",
      " 3   BasePay           148049 non-null  object \n",
      " 4   OvertimePay       148654 non-null  object \n",
      " 5   OtherPay          148654 non-null  object \n",
      " 6   Benefits          112495 non-null  object \n",
      " 7   TotalPay          148654 non-null  float64\n",
      " 8   TotalPayBenefits  148654 non-null  float64\n",
      " 9   Year              148654 non-null  int64  \n",
      " 10  Notes             0 non-null       float64\n",
      " 11  Agency            148654 non-null  object \n",
      " 12  Status            38119 non-null   object \n",
      "dtypes: float64(3), int64(2), object(8)\n",
      "memory usage: 14.7+ MB\n"
     ]
    }
   ],
   "source": [
    "df.info()"
   ]
  },
  {
   "cell_type": "code",
   "execution_count": 38,
   "id": "86a93830",
   "metadata": {
    "execution": {
     "iopub.execute_input": "2023-10-04T09:50:13.828490Z",
     "iopub.status.busy": "2023-10-04T09:50:13.827892Z",
     "iopub.status.idle": "2023-10-04T09:50:13.876336Z",
     "shell.execute_reply": "2023-10-04T09:50:13.874972Z"
    },
    "papermill": {
     "duration": 0.065992,
     "end_time": "2023-10-04T09:50:13.878762",
     "exception": false,
     "start_time": "2023-10-04T09:50:13.812770",
     "status": "completed"
    },
    "tags": []
   },
   "outputs": [
    {
     "data": {
      "text/html": [
       "<div>\n",
       "<style scoped>\n",
       "    .dataframe tbody tr th:only-of-type {\n",
       "        vertical-align: middle;\n",
       "    }\n",
       "\n",
       "    .dataframe tbody tr th {\n",
       "        vertical-align: top;\n",
       "    }\n",
       "\n",
       "    .dataframe thead th {\n",
       "        text-align: right;\n",
       "    }\n",
       "</style>\n",
       "<table border=\"1\" class=\"dataframe\">\n",
       "  <thead>\n",
       "    <tr style=\"text-align: right;\">\n",
       "      <th></th>\n",
       "      <th>Id</th>\n",
       "      <th>TotalPay</th>\n",
       "      <th>TotalPayBenefits</th>\n",
       "      <th>Year</th>\n",
       "      <th>Notes</th>\n",
       "    </tr>\n",
       "  </thead>\n",
       "  <tbody>\n",
       "    <tr>\n",
       "      <th>count</th>\n",
       "      <td>148654.000000</td>\n",
       "      <td>148654.000000</td>\n",
       "      <td>148654.000000</td>\n",
       "      <td>148654.000000</td>\n",
       "      <td>0.0</td>\n",
       "    </tr>\n",
       "    <tr>\n",
       "      <th>mean</th>\n",
       "      <td>74327.500000</td>\n",
       "      <td>74768.321972</td>\n",
       "      <td>93692.554811</td>\n",
       "      <td>2012.522643</td>\n",
       "      <td>NaN</td>\n",
       "    </tr>\n",
       "    <tr>\n",
       "      <th>std</th>\n",
       "      <td>42912.857795</td>\n",
       "      <td>50517.005274</td>\n",
       "      <td>62793.533483</td>\n",
       "      <td>1.117538</td>\n",
       "      <td>NaN</td>\n",
       "    </tr>\n",
       "    <tr>\n",
       "      <th>min</th>\n",
       "      <td>1.000000</td>\n",
       "      <td>-618.130000</td>\n",
       "      <td>-618.130000</td>\n",
       "      <td>2011.000000</td>\n",
       "      <td>NaN</td>\n",
       "    </tr>\n",
       "    <tr>\n",
       "      <th>25%</th>\n",
       "      <td>37164.250000</td>\n",
       "      <td>36168.995000</td>\n",
       "      <td>44065.650000</td>\n",
       "      <td>2012.000000</td>\n",
       "      <td>NaN</td>\n",
       "    </tr>\n",
       "    <tr>\n",
       "      <th>50%</th>\n",
       "      <td>74327.500000</td>\n",
       "      <td>71426.610000</td>\n",
       "      <td>92404.090000</td>\n",
       "      <td>2013.000000</td>\n",
       "      <td>NaN</td>\n",
       "    </tr>\n",
       "    <tr>\n",
       "      <th>75%</th>\n",
       "      <td>111490.750000</td>\n",
       "      <td>105839.135000</td>\n",
       "      <td>132876.450000</td>\n",
       "      <td>2014.000000</td>\n",
       "      <td>NaN</td>\n",
       "    </tr>\n",
       "    <tr>\n",
       "      <th>max</th>\n",
       "      <td>148654.000000</td>\n",
       "      <td>567595.430000</td>\n",
       "      <td>567595.430000</td>\n",
       "      <td>2014.000000</td>\n",
       "      <td>NaN</td>\n",
       "    </tr>\n",
       "  </tbody>\n",
       "</table>\n",
       "</div>"
      ],
      "text/plain": [
       "                  Id       TotalPay  TotalPayBenefits           Year  Notes\n",
       "count  148654.000000  148654.000000     148654.000000  148654.000000    0.0\n",
       "mean    74327.500000   74768.321972      93692.554811    2012.522643    NaN\n",
       "std     42912.857795   50517.005274      62793.533483       1.117538    NaN\n",
       "min         1.000000    -618.130000       -618.130000    2011.000000    NaN\n",
       "25%     37164.250000   36168.995000      44065.650000    2012.000000    NaN\n",
       "50%     74327.500000   71426.610000      92404.090000    2013.000000    NaN\n",
       "75%    111490.750000  105839.135000     132876.450000    2014.000000    NaN\n",
       "max    148654.000000  567595.430000     567595.430000    2014.000000    NaN"
      ]
     },
     "execution_count": 38,
     "metadata": {},
     "output_type": "execute_result"
    }
   ],
   "source": [
    "df.describe()"
   ]
  },
  {
   "cell_type": "markdown",
   "id": "033d0870",
   "metadata": {
    "papermill": {
     "duration": 0.013777,
     "end_time": "2023-10-04T09:50:13.907476",
     "exception": false,
     "start_time": "2023-10-04T09:50:13.893699",
     "status": "completed"
    },
    "tags": []
   },
   "source": [
    "# 1)Removing null values and preprocessing\n"
   ]
  },
  {
   "cell_type": "code",
   "execution_count": 39,
   "id": "e8871cdb",
   "metadata": {
    "execution": {
     "iopub.execute_input": "2023-10-04T09:50:13.938285Z",
     "iopub.status.busy": "2023-10-04T09:50:13.937891Z",
     "iopub.status.idle": "2023-10-04T09:50:13.990222Z",
     "shell.execute_reply": "2023-10-04T09:50:13.989184Z"
    },
    "papermill": {
     "duration": 0.070586,
     "end_time": "2023-10-04T09:50:13.992656",
     "exception": false,
     "start_time": "2023-10-04T09:50:13.922070",
     "status": "completed"
    },
    "tags": []
   },
   "outputs": [
    {
     "data": {
      "text/plain": [
       "Id                    0.000000\n",
       "EmployeeName          0.000000\n",
       "JobTitle              0.000000\n",
       "BasePay               0.406985\n",
       "OvertimePay           0.000000\n",
       "OtherPay              0.000000\n",
       "Benefits             24.324270\n",
       "TotalPay              0.000000\n",
       "TotalPayBenefits      0.000000\n",
       "Year                  0.000000\n",
       "Notes               100.000000\n",
       "Agency                0.000000\n",
       "Status               74.357232\n",
       "dtype: float64"
      ]
     },
     "execution_count": 39,
     "metadata": {},
     "output_type": "execute_result"
    }
   ],
   "source": [
    "df.isna().sum() / len(df) * 100"
   ]
  },
  {
   "cell_type": "code",
   "execution_count": 40,
   "id": "6a16b342",
   "metadata": {
    "execution": {
     "iopub.execute_input": "2023-10-04T09:50:14.024949Z",
     "iopub.status.busy": "2023-10-04T09:50:14.024599Z",
     "iopub.status.idle": "2023-10-04T09:50:14.046841Z",
     "shell.execute_reply": "2023-10-04T09:50:14.045825Z"
    },
    "papermill": {
     "duration": 0.04253,
     "end_time": "2023-10-04T09:50:14.049323",
     "exception": false,
     "start_time": "2023-10-04T09:50:14.006793",
     "status": "completed"
    },
    "tags": []
   },
   "outputs": [],
   "source": [
    "df.drop(['Notes', 'Status'], axis=1, inplace=True)"
   ]
  },
  {
   "cell_type": "code",
   "execution_count": 41,
   "id": "3c2c4a6d",
   "metadata": {
    "execution": {
     "iopub.execute_input": "2023-10-04T09:50:14.148980Z",
     "iopub.status.busy": "2023-10-04T09:50:14.148347Z",
     "iopub.status.idle": "2023-10-04T09:50:14.195909Z",
     "shell.execute_reply": "2023-10-04T09:50:14.194822Z"
    },
    "papermill": {
     "duration": 0.134636,
     "end_time": "2023-10-04T09:50:14.198022",
     "exception": false,
     "start_time": "2023-10-04T09:50:14.063386",
     "status": "completed"
    },
    "tags": []
   },
   "outputs": [
    {
     "data": {
      "text/plain": [
       "Id                   0.000000\n",
       "EmployeeName         0.000000\n",
       "JobTitle             0.000000\n",
       "BasePay              0.406985\n",
       "OvertimePay          0.000000\n",
       "OtherPay             0.000000\n",
       "Benefits            24.324270\n",
       "TotalPay             0.000000\n",
       "TotalPayBenefits     0.000000\n",
       "Year                 0.000000\n",
       "Agency               0.000000\n",
       "dtype: float64"
      ]
     },
     "execution_count": 41,
     "metadata": {},
     "output_type": "execute_result"
    }
   ],
   "source": [
    "df.isna().sum() / len(df) * 100"
   ]
  },
  {
   "cell_type": "code",
   "execution_count": 42,
   "id": "0158c912",
   "metadata": {
    "execution": {
     "iopub.execute_input": "2023-10-04T09:50:14.228398Z",
     "iopub.status.busy": "2023-10-04T09:50:14.228021Z",
     "iopub.status.idle": "2023-10-04T09:50:14.262591Z",
     "shell.execute_reply": "2023-10-04T09:50:14.261364Z"
    },
    "papermill": {
     "duration": 0.052553,
     "end_time": "2023-10-04T09:50:14.264951",
     "exception": false,
     "start_time": "2023-10-04T09:50:14.212398",
     "status": "completed"
    },
    "tags": []
   },
   "outputs": [],
   "source": [
    "df.dropna(subset=['BasePay'], inplace=True)"
   ]
  },
  {
   "cell_type": "code",
   "execution_count": 43,
   "id": "dfea2241",
   "metadata": {
    "execution": {
     "iopub.execute_input": "2023-10-04T09:50:14.295468Z",
     "iopub.status.busy": "2023-10-04T09:50:14.294944Z",
     "iopub.status.idle": "2023-10-04T09:50:14.342533Z",
     "shell.execute_reply": "2023-10-04T09:50:14.341379Z"
    },
    "papermill": {
     "duration": 0.065555,
     "end_time": "2023-10-04T09:50:14.345019",
     "exception": false,
     "start_time": "2023-10-04T09:50:14.279464",
     "status": "completed"
    },
    "tags": []
   },
   "outputs": [
    {
     "data": {
      "text/plain": [
       "Id                   0.000000\n",
       "EmployeeName         0.000000\n",
       "JobTitle             0.000000\n",
       "BasePay              0.000000\n",
       "OvertimePay          0.000000\n",
       "OtherPay             0.000000\n",
       "Benefits            24.423671\n",
       "TotalPay             0.000000\n",
       "TotalPayBenefits     0.000000\n",
       "Year                 0.000000\n",
       "Agency               0.000000\n",
       "dtype: float64"
      ]
     },
     "execution_count": 43,
     "metadata": {},
     "output_type": "execute_result"
    }
   ],
   "source": [
    "df.isna().sum() / len(df) * 100"
   ]
  },
  {
   "cell_type": "code",
   "execution_count": 44,
   "id": "8e9a06c1",
   "metadata": {
    "execution": {
     "iopub.execute_input": "2023-10-04T09:50:14.377501Z",
     "iopub.status.busy": "2023-10-04T09:50:14.376891Z",
     "iopub.status.idle": "2023-10-04T09:50:14.450471Z",
     "shell.execute_reply": "2023-10-04T09:50:14.449247Z"
    },
    "papermill": {
     "duration": 0.092827,
     "end_time": "2023-10-04T09:50:14.452965",
     "exception": false,
     "start_time": "2023-10-04T09:50:14.360138",
     "status": "completed"
    },
    "tags": []
   },
   "outputs": [
    {
     "data": {
      "text/plain": [
       "Benefits\n",
       "NaN         36159\n",
       "0.0           915\n",
       "0.00          681\n",
       "4659.36       107\n",
       "25699.2        83\n",
       "            ...  \n",
       "521.15          1\n",
       "448.44          1\n",
       "418.84          1\n",
       "467.34          1\n",
       "29661.01        1\n",
       "Name: count, Length: 99533, dtype: int64"
      ]
     },
     "execution_count": 44,
     "metadata": {},
     "output_type": "execute_result"
    }
   ],
   "source": [
    "df['Benefits'].value_counts(dropna=False)"
   ]
  },
  {
   "cell_type": "code",
   "execution_count": 45,
   "id": "2a2e0a3d",
   "metadata": {
    "execution": {
     "iopub.execute_input": "2023-10-04T09:50:14.484816Z",
     "iopub.status.busy": "2023-10-04T09:50:14.484423Z",
     "iopub.status.idle": "2023-10-04T09:50:14.508953Z",
     "shell.execute_reply": "2023-10-04T09:50:14.507843Z"
    },
    "papermill": {
     "duration": 0.043577,
     "end_time": "2023-10-04T09:50:14.511673",
     "exception": false,
     "start_time": "2023-10-04T09:50:14.468096",
     "status": "completed"
    },
    "tags": []
   },
   "outputs": [],
   "source": [
    "df['Benefits'] = df['Benefits'].fillna(0)"
   ]
  },
  {
   "cell_type": "code",
   "execution_count": 46,
   "id": "44685ac3",
   "metadata": {
    "execution": {
     "iopub.execute_input": "2023-10-04T09:50:14.543151Z",
     "iopub.status.busy": "2023-10-04T09:50:14.542797Z",
     "iopub.status.idle": "2023-10-04T09:50:14.618227Z",
     "shell.execute_reply": "2023-10-04T09:50:14.616972Z"
    },
    "papermill": {
     "duration": 0.094343,
     "end_time": "2023-10-04T09:50:14.620861",
     "exception": false,
     "start_time": "2023-10-04T09:50:14.526518",
     "status": "completed"
    },
    "tags": []
   },
   "outputs": [
    {
     "data": {
      "text/plain": [
       "Benefits\n",
       "0           37074\n",
       "0.00          681\n",
       "4659.36       107\n",
       "25699.2        83\n",
       "37055.22       82\n",
       "            ...  \n",
       "521.15          1\n",
       "448.44          1\n",
       "418.84          1\n",
       "467.34          1\n",
       "30901.86        1\n",
       "Name: count, Length: 99532, dtype: int64"
      ]
     },
     "execution_count": 46,
     "metadata": {},
     "output_type": "execute_result"
    }
   ],
   "source": [
    "df['Benefits'].value_counts(dropna=False)"
   ]
  },
  {
   "cell_type": "code",
   "execution_count": 47,
   "id": "e1ab39dd",
   "metadata": {
    "execution": {
     "iopub.execute_input": "2023-10-04T09:50:14.652149Z",
     "iopub.status.busy": "2023-10-04T09:50:14.651804Z",
     "iopub.status.idle": "2023-10-04T09:50:14.670799Z",
     "shell.execute_reply": "2023-10-04T09:50:14.669508Z"
    },
    "papermill": {
     "duration": 0.037371,
     "end_time": "2023-10-04T09:50:14.673111",
     "exception": false,
     "start_time": "2023-10-04T09:50:14.635740",
     "status": "completed"
    },
    "tags": []
   },
   "outputs": [
    {
     "data": {
      "text/plain": [
       "Index([148646, 148650, 148651, 148652], dtype='int64')"
      ]
     },
     "execution_count": 47,
     "metadata": {},
     "output_type": "execute_result"
    }
   ],
   "source": [
    "df[df['Benefits'] == 'Not Provided'].index"
   ]
  },
  {
   "cell_type": "code",
   "execution_count": 48,
   "id": "2eea1341",
   "metadata": {
    "execution": {
     "iopub.execute_input": "2023-10-04T09:50:14.704601Z",
     "iopub.status.busy": "2023-10-04T09:50:14.704220Z",
     "iopub.status.idle": "2023-10-04T09:50:14.737441Z",
     "shell.execute_reply": "2023-10-04T09:50:14.736389Z"
    },
    "papermill": {
     "duration": 0.052016,
     "end_time": "2023-10-04T09:50:14.740033",
     "exception": false,
     "start_time": "2023-10-04T09:50:14.688017",
     "status": "completed"
    },
    "tags": []
   },
   "outputs": [],
   "source": [
    "df.drop([148646, 148650, 148651, 148652], inplace=True)"
   ]
  },
  {
   "cell_type": "code",
   "execution_count": 49,
   "id": "b705b7d9",
   "metadata": {
    "execution": {
     "iopub.execute_input": "2023-10-04T09:50:14.771412Z",
     "iopub.status.busy": "2023-10-04T09:50:14.771012Z",
     "iopub.status.idle": "2023-10-04T09:50:14.820363Z",
     "shell.execute_reply": "2023-10-04T09:50:14.819411Z"
    },
    "papermill": {
     "duration": 0.067828,
     "end_time": "2023-10-04T09:50:14.822704",
     "exception": false,
     "start_time": "2023-10-04T09:50:14.754876",
     "status": "completed"
    },
    "tags": []
   },
   "outputs": [
    {
     "data": {
      "text/plain": [
       "Id                  0.0\n",
       "EmployeeName        0.0\n",
       "JobTitle            0.0\n",
       "BasePay             0.0\n",
       "OvertimePay         0.0\n",
       "OtherPay            0.0\n",
       "Benefits            0.0\n",
       "TotalPay            0.0\n",
       "TotalPayBenefits    0.0\n",
       "Year                0.0\n",
       "Agency              0.0\n",
       "dtype: float64"
      ]
     },
     "execution_count": 49,
     "metadata": {},
     "output_type": "execute_result"
    }
   ],
   "source": [
    "df.isna().sum() / len(df) * 100"
   ]
  },
  {
   "cell_type": "code",
   "execution_count": 50,
   "id": "85d47483",
   "metadata": {
    "execution": {
     "iopub.execute_input": "2023-10-04T09:50:14.856447Z",
     "iopub.status.busy": "2023-10-04T09:50:14.856030Z",
     "iopub.status.idle": "2023-10-04T09:50:14.863031Z",
     "shell.execute_reply": "2023-10-04T09:50:14.861783Z"
    },
    "papermill": {
     "duration": 0.027375,
     "end_time": "2023-10-04T09:50:14.865223",
     "exception": false,
     "start_time": "2023-10-04T09:50:14.837848",
     "status": "completed"
    },
    "tags": []
   },
   "outputs": [
    {
     "data": {
      "text/plain": [
       "(148045, 11)"
      ]
     },
     "execution_count": 50,
     "metadata": {},
     "output_type": "execute_result"
    }
   ],
   "source": [
    "df.shape"
   ]
  },
  {
   "cell_type": "code",
   "execution_count": 51,
   "id": "259e8f16",
   "metadata": {
    "execution": {
     "iopub.execute_input": "2023-10-04T09:50:14.898189Z",
     "iopub.status.busy": "2023-10-04T09:50:14.897796Z",
     "iopub.status.idle": "2023-10-04T09:50:14.949490Z",
     "shell.execute_reply": "2023-10-04T09:50:14.948607Z"
    },
    "papermill": {
     "duration": 0.070314,
     "end_time": "2023-10-04T09:50:14.951549",
     "exception": false,
     "start_time": "2023-10-04T09:50:14.881235",
     "status": "completed"
    },
    "tags": []
   },
   "outputs": [
    {
     "name": "stdout",
     "output_type": "stream",
     "text": [
      "<class 'pandas.core.frame.DataFrame'>\n",
      "Index: 148045 entries, 0 to 148653\n",
      "Data columns (total 11 columns):\n",
      " #   Column            Non-Null Count   Dtype  \n",
      "---  ------            --------------   -----  \n",
      " 0   Id                148045 non-null  int64  \n",
      " 1   EmployeeName      148045 non-null  object \n",
      " 2   JobTitle          148045 non-null  object \n",
      " 3   BasePay           148045 non-null  object \n",
      " 4   OvertimePay       148045 non-null  object \n",
      " 5   OtherPay          148045 non-null  object \n",
      " 6   Benefits          148045 non-null  object \n",
      " 7   TotalPay          148045 non-null  float64\n",
      " 8   TotalPayBenefits  148045 non-null  float64\n",
      " 9   Year              148045 non-null  int64  \n",
      " 10  Agency            148045 non-null  object \n",
      "dtypes: float64(2), int64(2), object(7)\n",
      "memory usage: 13.6+ MB\n"
     ]
    }
   ],
   "source": [
    "df.info()"
   ]
  },
  {
   "cell_type": "code",
   "execution_count": 52,
   "id": "c8f727d3",
   "metadata": {
    "execution": {
     "iopub.execute_input": "2023-10-04T09:50:14.984146Z",
     "iopub.status.busy": "2023-10-04T09:50:14.983190Z",
     "iopub.status.idle": "2023-10-04T09:50:15.071027Z",
     "shell.execute_reply": "2023-10-04T09:50:15.070098Z"
    },
    "papermill": {
     "duration": 0.106353,
     "end_time": "2023-10-04T09:50:15.073441",
     "exception": false,
     "start_time": "2023-10-04T09:50:14.967088",
     "status": "completed"
    },
    "tags": []
   },
   "outputs": [],
   "source": [
    "df['Benefits'] = pd.to_numeric(df['Benefits'])\n",
    "df['BasePay'] = pd.to_numeric(df['BasePay'])\n",
    "df['OvertimePay'] = pd.to_numeric(df['OvertimePay'])\n",
    "df['OtherPay'] = pd.to_numeric(df['OtherPay'])"
   ]
  },
  {
   "cell_type": "code",
   "execution_count": 53,
   "id": "b0bceb3a",
   "metadata": {
    "execution": {
     "iopub.execute_input": "2023-10-04T09:50:15.105736Z",
     "iopub.status.busy": "2023-10-04T09:50:15.105389Z",
     "iopub.status.idle": "2023-10-04T09:50:15.139354Z",
     "shell.execute_reply": "2023-10-04T09:50:15.138537Z"
    },
    "papermill": {
     "duration": 0.053258,
     "end_time": "2023-10-04T09:50:15.141812",
     "exception": false,
     "start_time": "2023-10-04T09:50:15.088554",
     "status": "completed"
    },
    "tags": []
   },
   "outputs": [
    {
     "name": "stdout",
     "output_type": "stream",
     "text": [
      "<class 'pandas.core.frame.DataFrame'>\n",
      "Index: 148045 entries, 0 to 148653\n",
      "Data columns (total 11 columns):\n",
      " #   Column            Non-Null Count   Dtype  \n",
      "---  ------            --------------   -----  \n",
      " 0   Id                148045 non-null  int64  \n",
      " 1   EmployeeName      148045 non-null  object \n",
      " 2   JobTitle          148045 non-null  object \n",
      " 3   BasePay           148045 non-null  float64\n",
      " 4   OvertimePay       148045 non-null  float64\n",
      " 5   OtherPay          148045 non-null  float64\n",
      " 6   Benefits          148045 non-null  float64\n",
      " 7   TotalPay          148045 non-null  float64\n",
      " 8   TotalPayBenefits  148045 non-null  float64\n",
      " 9   Year              148045 non-null  int64  \n",
      " 10  Agency            148045 non-null  object \n",
      "dtypes: float64(6), int64(2), object(3)\n",
      "memory usage: 13.6+ MB\n"
     ]
    }
   ],
   "source": [
    "df.info()"
   ]
  },
  {
   "cell_type": "code",
   "execution_count": 54,
   "id": "b474afe1",
   "metadata": {
    "execution": {
     "iopub.execute_input": "2023-10-04T09:50:15.176467Z",
     "iopub.status.busy": "2023-10-04T09:50:15.176059Z",
     "iopub.status.idle": "2023-10-04T09:50:15.195830Z",
     "shell.execute_reply": "2023-10-04T09:50:15.194305Z"
    },
    "papermill": {
     "duration": 0.040833,
     "end_time": "2023-10-04T09:50:15.198428",
     "exception": false,
     "start_time": "2023-10-04T09:50:15.157595",
     "status": "completed"
    },
    "tags": []
   },
   "outputs": [],
   "source": [
    "df = df[df['TotalPayBenefits'] != 0]"
   ]
  },
  {
   "cell_type": "markdown",
   "id": "82401b25",
   "metadata": {
    "papermill": {
     "duration": 0.015479,
     "end_time": "2023-10-04T09:50:15.230182",
     "exception": false,
     "start_time": "2023-10-04T09:50:15.214703",
     "status": "completed"
    },
    "tags": []
   },
   "source": [
    "# EDA Analysis\n"
   ]
  },
  {
   "cell_type": "code",
   "execution_count": 55,
   "id": "c0e78a43",
   "metadata": {
    "execution": {
     "iopub.execute_input": "2023-10-04T09:50:15.265227Z",
     "iopub.status.busy": "2023-10-04T09:50:15.263823Z",
     "iopub.status.idle": "2023-10-04T09:50:15.344440Z",
     "shell.execute_reply": "2023-10-04T09:50:15.343293Z"
    },
    "papermill": {
     "duration": 0.10042,
     "end_time": "2023-10-04T09:50:15.346775",
     "exception": false,
     "start_time": "2023-10-04T09:50:15.246355",
     "status": "completed"
    },
    "tags": []
   },
   "outputs": [
    {
     "data": {
      "text/html": [
       "<div>\n",
       "<style scoped>\n",
       "    .dataframe tbody tr th:only-of-type {\n",
       "        vertical-align: middle;\n",
       "    }\n",
       "\n",
       "    .dataframe tbody tr th {\n",
       "        vertical-align: top;\n",
       "    }\n",
       "\n",
       "    .dataframe thead th {\n",
       "        text-align: right;\n",
       "    }\n",
       "</style>\n",
       "<table border=\"1\" class=\"dataframe\">\n",
       "  <thead>\n",
       "    <tr style=\"text-align: right;\">\n",
       "      <th></th>\n",
       "      <th>Id</th>\n",
       "      <th>BasePay</th>\n",
       "      <th>OvertimePay</th>\n",
       "      <th>OtherPay</th>\n",
       "      <th>Benefits</th>\n",
       "      <th>TotalPay</th>\n",
       "      <th>TotalPayBenefits</th>\n",
       "      <th>Year</th>\n",
       "    </tr>\n",
       "  </thead>\n",
       "  <tbody>\n",
       "    <tr>\n",
       "      <th>count</th>\n",
       "      <td>148019.000000</td>\n",
       "      <td>148019.000000</td>\n",
       "      <td>148019.000000</td>\n",
       "      <td>148019.000000</td>\n",
       "      <td>148019.000000</td>\n",
       "      <td>148019.000000</td>\n",
       "      <td>148019.000000</td>\n",
       "      <td>148019.000000</td>\n",
       "    </tr>\n",
       "    <tr>\n",
       "      <th>mean</th>\n",
       "      <td>74181.883164</td>\n",
       "      <td>66337.099113</td>\n",
       "      <td>5087.634301</td>\n",
       "      <td>3646.301780</td>\n",
       "      <td>18983.667974</td>\n",
       "      <td>75071.035194</td>\n",
       "      <td>94054.703168</td>\n",
       "      <td>2012.520453</td>\n",
       "    </tr>\n",
       "    <tr>\n",
       "      <th>std</th>\n",
       "      <td>42941.888117</td>\n",
       "      <td>42759.354972</td>\n",
       "      <td>11473.991078</td>\n",
       "      <td>8020.057364</td>\n",
       "      <td>17176.057495</td>\n",
       "      <td>50404.371139</td>\n",
       "      <td>62676.590294</td>\n",
       "      <td>1.119315</td>\n",
       "    </tr>\n",
       "    <tr>\n",
       "      <th>min</th>\n",
       "      <td>1.000000</td>\n",
       "      <td>-166.010000</td>\n",
       "      <td>-0.010000</td>\n",
       "      <td>-7058.590000</td>\n",
       "      <td>-13.800000</td>\n",
       "      <td>-618.130000</td>\n",
       "      <td>-618.130000</td>\n",
       "      <td>2011.000000</td>\n",
       "    </tr>\n",
       "    <tr>\n",
       "      <th>25%</th>\n",
       "      <td>37008.500000</td>\n",
       "      <td>33615.605000</td>\n",
       "      <td>0.000000</td>\n",
       "      <td>0.000000</td>\n",
       "      <td>0.000000</td>\n",
       "      <td>37014.835000</td>\n",
       "      <td>45120.645000</td>\n",
       "      <td>2012.000000</td>\n",
       "    </tr>\n",
       "    <tr>\n",
       "      <th>50%</th>\n",
       "      <td>74013.000000</td>\n",
       "      <td>65014.780000</td>\n",
       "      <td>0.000000</td>\n",
       "      <td>818.030000</td>\n",
       "      <td>23476.330000</td>\n",
       "      <td>71652.740000</td>\n",
       "      <td>92685.190000</td>\n",
       "      <td>2013.000000</td>\n",
       "    </tr>\n",
       "    <tr>\n",
       "      <th>75%</th>\n",
       "      <td>111622.500000</td>\n",
       "      <td>94691.770000</td>\n",
       "      <td>4697.365000</td>\n",
       "      <td>4244.585000</td>\n",
       "      <td>33509.855000</td>\n",
       "      <td>106036.165000</td>\n",
       "      <td>133099.050000</td>\n",
       "      <td>2014.000000</td>\n",
       "    </tr>\n",
       "    <tr>\n",
       "      <th>max</th>\n",
       "      <td>148654.000000</td>\n",
       "      <td>319275.010000</td>\n",
       "      <td>245131.880000</td>\n",
       "      <td>400184.250000</td>\n",
       "      <td>96570.660000</td>\n",
       "      <td>567595.430000</td>\n",
       "      <td>567595.430000</td>\n",
       "      <td>2014.000000</td>\n",
       "    </tr>\n",
       "  </tbody>\n",
       "</table>\n",
       "</div>"
      ],
      "text/plain": [
       "                  Id        BasePay    OvertimePay       OtherPay  \\\n",
       "count  148019.000000  148019.000000  148019.000000  148019.000000   \n",
       "mean    74181.883164   66337.099113    5087.634301    3646.301780   \n",
       "std     42941.888117   42759.354972   11473.991078    8020.057364   \n",
       "min         1.000000    -166.010000      -0.010000   -7058.590000   \n",
       "25%     37008.500000   33615.605000       0.000000       0.000000   \n",
       "50%     74013.000000   65014.780000       0.000000     818.030000   \n",
       "75%    111622.500000   94691.770000    4697.365000    4244.585000   \n",
       "max    148654.000000  319275.010000  245131.880000  400184.250000   \n",
       "\n",
       "            Benefits       TotalPay  TotalPayBenefits           Year  \n",
       "count  148019.000000  148019.000000     148019.000000  148019.000000  \n",
       "mean    18983.667974   75071.035194      94054.703168    2012.520453  \n",
       "std     17176.057495   50404.371139      62676.590294       1.119315  \n",
       "min       -13.800000    -618.130000       -618.130000    2011.000000  \n",
       "25%         0.000000   37014.835000      45120.645000    2012.000000  \n",
       "50%     23476.330000   71652.740000      92685.190000    2013.000000  \n",
       "75%     33509.855000  106036.165000     133099.050000    2014.000000  \n",
       "max     96570.660000  567595.430000     567595.430000    2014.000000  "
      ]
     },
     "execution_count": 55,
     "metadata": {},
     "output_type": "execute_result"
    }
   ],
   "source": [
    "df.describe()"
   ]
  },
  {
   "cell_type": "markdown",
   "id": "e687f717",
   "metadata": {
    "papermill": {
     "duration": 0.014837,
     "end_time": "2023-10-04T09:50:15.377233",
     "exception": false,
     "start_time": "2023-10-04T09:50:15.362396",
     "status": "completed"
    },
    "tags": []
   },
   "source": [
    "### What is the average BasePay ?\n"
   ]
  },
  {
   "cell_type": "code",
   "execution_count": 56,
   "id": "bf874c78",
   "metadata": {
    "execution": {
     "iopub.execute_input": "2023-10-04T09:50:15.410326Z",
     "iopub.status.busy": "2023-10-04T09:50:15.409937Z",
     "iopub.status.idle": "2023-10-04T09:50:15.417439Z",
     "shell.execute_reply": "2023-10-04T09:50:15.416562Z"
    },
    "papermill": {
     "duration": 0.026357,
     "end_time": "2023-10-04T09:50:15.419296",
     "exception": false,
     "start_time": "2023-10-04T09:50:15.392939",
     "status": "completed"
    },
    "tags": []
   },
   "outputs": [
    {
     "data": {
      "text/plain": [
       "66337.09911288414"
      ]
     },
     "execution_count": 56,
     "metadata": {},
     "output_type": "execute_result"
    }
   ],
   "source": [
    "df['BasePay'].mean()"
   ]
  },
  {
   "cell_type": "code",
   "execution_count": 57,
   "id": "8df50e66",
   "metadata": {
    "execution": {
     "iopub.execute_input": "2023-10-04T09:50:15.452032Z",
     "iopub.status.busy": "2023-10-04T09:50:15.450960Z",
     "iopub.status.idle": "2023-10-04T09:50:15.460939Z",
     "shell.execute_reply": "2023-10-04T09:50:15.459782Z"
    },
    "papermill": {
     "duration": 0.028703,
     "end_time": "2023-10-04T09:50:15.463314",
     "exception": false,
     "start_time": "2023-10-04T09:50:15.434611",
     "status": "completed"
    },
    "tags": []
   },
   "outputs": [
    {
     "data": {
      "text/plain": [
       "65014.78"
      ]
     },
     "execution_count": 57,
     "metadata": {},
     "output_type": "execute_result"
    }
   ],
   "source": [
    "df['BasePay'].median()"
   ]
  },
  {
   "cell_type": "code",
   "execution_count": 58,
   "id": "0edcc594",
   "metadata": {
    "execution": {
     "iopub.execute_input": "2023-10-04T09:50:15.497055Z",
     "iopub.status.busy": "2023-10-04T09:50:15.496701Z",
     "iopub.status.idle": "2023-10-04T09:50:15.505143Z",
     "shell.execute_reply": "2023-10-04T09:50:15.503985Z"
    },
    "papermill": {
     "duration": 0.027775,
     "end_time": "2023-10-04T09:50:15.507189",
     "exception": false,
     "start_time": "2023-10-04T09:50:15.479414",
     "status": "completed"
    },
    "tags": []
   },
   "outputs": [
    {
     "data": {
      "text/plain": [
       "42759.35497198876"
      ]
     },
     "execution_count": 58,
     "metadata": {},
     "output_type": "execute_result"
    }
   ],
   "source": [
    "df['BasePay'].std()"
   ]
  },
  {
   "cell_type": "code",
   "execution_count": 59,
   "id": "e91011ba",
   "metadata": {
    "execution": {
     "iopub.execute_input": "2023-10-04T09:50:15.540782Z",
     "iopub.status.busy": "2023-10-04T09:50:15.540439Z",
     "iopub.status.idle": "2023-10-04T09:50:16.826116Z",
     "shell.execute_reply": "2023-10-04T09:50:16.825284Z"
    },
    "papermill": {
     "duration": 1.304794,
     "end_time": "2023-10-04T09:50:16.828298",
     "exception": false,
     "start_time": "2023-10-04T09:50:15.523504",
     "status": "completed"
    },
    "tags": []
   },
   "outputs": [
    {
     "data": {
      "text/plain": [
       "<Axes: xlabel='BasePay', ylabel='Count'>"
      ]
     },
     "execution_count": 59,
     "metadata": {},
     "output_type": "execute_result"
    },
    {
     "data": {
      "image/png": "[encoded data removed]",
      "text/plain": [
       "<Figure size 1000x500 with 1 Axes>"
      ]
     },
     "metadata": {},
     "output_type": "display_data"
    }
   ],
   "source": [
    "plt.figure(figsize=(10, 5))\n",
    "sns.histplot(data=df, x='BasePay', kde=True)"
   ]
  },
  {
   "cell_type": "markdown",
   "id": "39cf99bc",
   "metadata": {
    "papermill": {
     "duration": 0.01589,
     "end_time": "2023-10-04T09:50:16.860844",
     "exception": false,
     "start_time": "2023-10-04T09:50:16.844954",
     "status": "completed"
    },
    "tags": []
   },
   "source": [
    "### This is a Bimodal Distributions we will deal with that by separating this data into 2 groups"
   ]
  },
  {
   "cell_type": "code",
   "execution_count": 60,
   "id": "44733f5b",
   "metadata": {
    "execution": {
     "iopub.execute_input": "2023-10-04T09:50:16.895289Z",
     "iopub.status.busy": "2023-10-04T09:50:16.894887Z",
     "iopub.status.idle": "2023-10-04T09:50:18.309437Z",
     "shell.execute_reply": "2023-10-04T09:50:18.308298Z"
    },
    "papermill": {
     "duration": 1.43471,
     "end_time": "2023-10-04T09:50:18.311867",
     "exception": false,
     "start_time": "2023-10-04T09:50:16.877157",
     "status": "completed"
    },
    "tags": []
   },
   "outputs": [
    {
     "name": "stderr",
     "output_type": "stream",
     "text": [
      "No artists with labels found to put in legend.  Note that artists whose label start with an underscore are ignored when legend() is called with no argument.\n"
     ]
    },
    {
     "data": {
      "text/plain": [
       "<matplotlib.legend.Legend at 0x1e608aa9220>"
      ]
     },
     "execution_count": 60,
     "metadata": {},
     "output_type": "execute_result"
    },
    {
     "data": {
      "image/png": "[encoded data removed]",
      "text/plain": [
       "<Figure size 1000x500 with 1 Axes>"
      ]
     },
     "metadata": {},
     "output_type": "display_data"
    }
   ],
   "source": [
    "A = df['BasePay'][df['BasePay'] < 45000]\n",
    "B = df['BasePay'][df['BasePay'] > 45000]\n",
    "plt.figure(figsize=(10, 5))\n",
    "sns.histplot(A, legend=True, kde=True)\n",
    "sns.histplot(B, color='red', kde=True)\n",
    "plt.legend()"
   ]
  },
  {
   "cell_type": "code",
   "execution_count": 61,
   "id": "667f6645",
   "metadata": {
    "execution": {
     "iopub.execute_input": "2023-10-04T09:50:18.347682Z",
     "iopub.status.busy": "2023-10-04T09:50:18.347323Z",
     "iopub.status.idle": "2023-10-04T09:50:18.357627Z",
     "shell.execute_reply": "2023-10-04T09:50:18.356452Z"
    },
    "papermill": {
     "duration": 0.031096,
     "end_time": "2023-10-04T09:50:18.359953",
     "exception": false,
     "start_time": "2023-10-04T09:50:18.328857",
     "status": "completed"
    },
    "tags": []
   },
   "outputs": [
    {
     "name": "stdout",
     "output_type": "stream",
     "text": [
      "Group A mean: 16282.163223986767\n",
      "Group B mean: 87607.00154719959\n",
      "--------------------------------------------------\n",
      "Group A median: 12641.5\n",
      "Group B median: 79901.0\n"
     ]
    }
   ],
   "source": [
    "print('Group A mean:', A.mean())\n",
    "print('Group B mean:', B.mean())\n",
    "print('-' * 50)\n",
    "print('Group A median:', A.median())\n",
    "print('Group B median:', B.median())"
   ]
  },
  {
   "cell_type": "markdown",
   "id": "31cb28e1",
   "metadata": {
    "papermill": {
     "duration": 0.01694,
     "end_time": "2023-10-04T09:50:18.463595",
     "exception": false,
     "start_time": "2023-10-04T09:50:18.446655",
     "status": "completed"
    },
    "tags": []
   },
   "source": [
    "## Here the median is more accurate than the mean because the two groups are skewed to right"
   ]
  },
  {
   "cell_type": "markdown",
   "id": "b0309c43",
   "metadata": {
    "papermill": {
     "duration": 0.017069,
     "end_time": "2023-10-04T09:50:18.497921",
     "exception": false,
     "start_time": "2023-10-04T09:50:18.480852",
     "status": "completed"
    },
    "tags": []
   },
   "source": [
    "### Now we can find the job titles for each group "
   ]
  },
  {
   "cell_type": "code",
   "execution_count": 62,
   "id": "e89bdd80",
   "metadata": {
    "execution": {
     "iopub.execute_input": "2023-10-04T09:50:18.533693Z",
     "iopub.status.busy": "2023-10-04T09:50:18.533284Z",
     "iopub.status.idle": "2023-10-04T09:50:18.579396Z",
     "shell.execute_reply": "2023-10-04T09:50:18.577882Z"
    },
    "papermill": {
     "duration": 0.066985,
     "end_time": "2023-10-04T09:50:18.581949",
     "exception": false,
     "start_time": "2023-10-04T09:50:18.514964",
     "status": "completed"
    },
    "tags": []
   },
   "outputs": [],
   "source": [
    "df['JobTitle'] = df['JobTitle'].str.lower()"
   ]
  },
  {
   "cell_type": "code",
   "execution_count": 63,
   "id": "9e09fc8d",
   "metadata": {
    "execution": {
     "iopub.execute_input": "2023-10-04T09:50:18.617674Z",
     "iopub.status.busy": "2023-10-04T09:50:18.617297Z",
     "iopub.status.idle": "2023-10-04T09:50:18.652669Z",
     "shell.execute_reply": "2023-10-04T09:50:18.651096Z"
    },
    "papermill": {
     "duration": 0.056291,
     "end_time": "2023-10-04T09:50:18.655368",
     "exception": false,
     "start_time": "2023-10-04T09:50:18.599077",
     "status": "completed"
    },
    "tags": []
   },
   "outputs": [],
   "source": [
    "l_B = list(B.index)\n",
    "group_B = df.iloc[l_B\n",
    "                  ]"
   ]
  },
  {
   "cell_type": "code",
   "execution_count": 64,
   "id": "337dbc25",
   "metadata": {
    "execution": {
     "iopub.execute_input": "2023-10-04T09:50:18.690989Z",
     "iopub.status.busy": "2023-10-04T09:50:18.690629Z",
     "iopub.status.idle": "2023-10-04T09:50:18.710533Z",
     "shell.execute_reply": "2023-10-04T09:50:18.709678Z"
    },
    "papermill": {
     "duration": 0.039946,
     "end_time": "2023-10-04T09:50:18.712273",
     "exception": false,
     "start_time": "2023-10-04T09:50:18.672327",
     "status": "completed"
    },
    "tags": []
   },
   "outputs": [],
   "source": [
    "l_A = list(A.index)\n",
    "\n",
    "l_A.sort(reverse=True)\n",
    "l_A = l_A[608:]\n",
    "group_A = df.iloc[l_A]"
   ]
  },
  {
   "cell_type": "code",
   "execution_count": 65,
   "id": "26352554",
   "metadata": {
    "execution": {
     "iopub.execute_input": "2023-10-04T09:50:18.747874Z",
     "iopub.status.busy": "2023-10-04T09:50:18.747483Z",
     "iopub.status.idle": "2023-10-04T09:50:18.760261Z",
     "shell.execute_reply": "2023-10-04T09:50:18.759125Z"
    },
    "papermill": {
     "duration": 0.033259,
     "end_time": "2023-10-04T09:50:18.762405",
     "exception": false,
     "start_time": "2023-10-04T09:50:18.729146",
     "status": "completed"
    },
    "tags": []
   },
   "outputs": [],
   "source": [
    "Jop_A = group_A['JobTitle'].value_counts()"
   ]
  },
  {
   "cell_type": "code",
   "execution_count": 66,
   "id": "58502cfb",
   "metadata": {
    "execution": {
     "iopub.execute_input": "2023-10-04T09:50:18.798920Z",
     "iopub.status.busy": "2023-10-04T09:50:18.798525Z",
     "iopub.status.idle": "2023-10-04T09:50:18.807525Z",
     "shell.execute_reply": "2023-10-04T09:50:18.806284Z"
    },
    "papermill": {
     "duration": 0.030232,
     "end_time": "2023-10-04T09:50:18.809808",
     "exception": false,
     "start_time": "2023-10-04T09:50:18.779576",
     "status": "completed"
    },
    "tags": []
   },
   "outputs": [
    {
     "data": {
      "text/plain": [
       "JobTitle\n",
       "special nurse                         4575\n",
       "recreation leader                     2598\n",
       "public svc aide-public works          2420\n",
       "transit operator                      2417\n",
       "public service trainee                1583\n",
       "                                      ... \n",
       "court asst-sr, superior court            1\n",
       "head photographer                        1\n",
       "sheriff                                  1\n",
       "ct comp sys engineer ii                  1\n",
       "commander iii, (police department)       1\n",
       "Name: count, Length: 1091, dtype: int64"
      ]
     },
     "execution_count": 66,
     "metadata": {},
     "output_type": "execute_result"
    }
   ],
   "source": [
    "Jop_A"
   ]
  },
  {
   "cell_type": "code",
   "execution_count": 67,
   "id": "a91ca2ef",
   "metadata": {
    "execution": {
     "iopub.execute_input": "2023-10-04T09:50:18.846058Z",
     "iopub.status.busy": "2023-10-04T09:50:18.845620Z",
     "iopub.status.idle": "2023-10-04T09:50:19.143513Z",
     "shell.execute_reply": "2023-10-04T09:50:19.142169Z"
    },
    "papermill": {
     "duration": 0.319051,
     "end_time": "2023-10-04T09:50:19.146082",
     "exception": false,
     "start_time": "2023-10-04T09:50:18.827031",
     "status": "completed"
    },
    "tags": []
   },
   "outputs": [
    {
     "data": {
      "image/png": "[encoded data removed]",
      "text/plain": [
       "<Figure size 1500x500 with 1 Axes>"
      ]
     },
     "metadata": {},
     "output_type": "display_data"
    }
   ],
   "source": [
    "plt.figure(figsize=(15, 5))\n",
    "sns.barplot(x=Jop_A.head(10).index, y=Jop_A.head(10).values)\n",
    "plt.xticks(rotation=45)\n",
    "plt.show()"
   ]
  },
  {
   "cell_type": "code",
   "execution_count": 68,
   "id": "eed335f2",
   "metadata": {
    "execution": {
     "iopub.execute_input": "2023-10-04T09:50:19.183928Z",
     "iopub.status.busy": "2023-10-04T09:50:19.183569Z",
     "iopub.status.idle": "2023-10-04T09:50:19.203403Z",
     "shell.execute_reply": "2023-10-04T09:50:19.202276Z"
    },
    "papermill": {
     "duration": 0.041591,
     "end_time": "2023-10-04T09:50:19.205612",
     "exception": false,
     "start_time": "2023-10-04T09:50:19.164021",
     "status": "completed"
    },
    "tags": []
   },
   "outputs": [],
   "source": [
    "Jop_B = group_B['JobTitle'].value_counts()"
   ]
  },
  {
   "cell_type": "code",
   "execution_count": 69,
   "id": "3286ae72",
   "metadata": {
    "execution": {
     "iopub.execute_input": "2023-10-04T09:50:19.243851Z",
     "iopub.status.busy": "2023-10-04T09:50:19.243488Z",
     "iopub.status.idle": "2023-10-04T09:50:19.252031Z",
     "shell.execute_reply": "2023-10-04T09:50:19.250752Z"
    },
    "papermill": {
     "duration": 0.030242,
     "end_time": "2023-10-04T09:50:19.254243",
     "exception": false,
     "start_time": "2023-10-04T09:50:19.224001",
     "status": "completed"
    },
    "tags": []
   },
   "outputs": [
    {
     "data": {
      "text/plain": [
       "JobTitle\n",
       "transit operator                             6931\n",
       "registered nurse                             4552\n",
       "firefighter                                  2942\n",
       "deputy sheriff                               2501\n",
       "police officer 3                             2233\n",
       "                                             ... \n",
       "chief microbiologist                            1\n",
       "wharfinger i                                    1\n",
       "secretary, building inspection commission       1\n",
       "electroencephalograph technician i              1\n",
       "senior medical transcriber typist               1\n",
       "Name: count, Length: 1562, dtype: int64"
      ]
     },
     "execution_count": 69,
     "metadata": {},
     "output_type": "execute_result"
    }
   ],
   "source": [
    "Jop_B"
   ]
  },
  {
   "cell_type": "code",
   "execution_count": 70,
   "id": "24c9e089",
   "metadata": {
    "execution": {
     "iopub.execute_input": "2023-10-04T09:50:19.294370Z",
     "iopub.status.busy": "2023-10-04T09:50:19.293063Z",
     "iopub.status.idle": "2023-10-04T09:50:19.581588Z",
     "shell.execute_reply": "2023-10-04T09:50:19.580313Z"
    },
    "papermill": {
     "duration": 0.310591,
     "end_time": "2023-10-04T09:50:19.583898",
     "exception": false,
     "start_time": "2023-10-04T09:50:19.273307",
     "status": "completed"
    },
    "tags": []
   },
   "outputs": [
    {
     "data": {
      "image/png": "[encoded data removed]",
      "text/plain": [
       "<Figure size 1500x500 with 1 Axes>"
      ]
     },
     "metadata": {},
     "output_type": "display_data"
    }
   ],
   "source": [
    "plt.figure(figsize=(15, 5))\n",
    "sns.barplot(x=Jop_B.head(10).index, y=Jop_B.head(10).values)\n",
    "plt.xticks(rotation=45)\n",
    "plt.show()"
   ]
  },
  {
   "cell_type": "markdown",
   "id": "0c744e86",
   "metadata": {
    "papermill": {
     "duration": 0.018979,
     "end_time": "2023-10-04T09:50:19.699853",
     "exception": false,
     "start_time": "2023-10-04T09:50:19.680874",
     "status": "completed"
    },
    "tags": []
   },
   "source": [
    "# To Find the highest amount of OvertimePay in the dataset ?\n"
   ]
  },
  {
   "cell_type": "code",
   "execution_count": 71,
   "id": "e833ccee",
   "metadata": {
    "execution": {
     "iopub.execute_input": "2023-10-04T09:50:19.739828Z",
     "iopub.status.busy": "2023-10-04T09:50:19.739434Z",
     "iopub.status.idle": "2023-10-04T09:50:19.755614Z",
     "shell.execute_reply": "2023-10-04T09:50:19.754502Z"
    },
    "papermill": {
     "duration": 0.039073,
     "end_time": "2023-10-04T09:50:19.757908",
     "exception": false,
     "start_time": "2023-10-04T09:50:19.718835",
     "status": "completed"
    },
    "tags": []
   },
   "outputs": [
    {
     "data": {
      "text/html": [
       "<div>\n",
       "<style scoped>\n",
       "    .dataframe tbody tr th:only-of-type {\n",
       "        vertical-align: middle;\n",
       "    }\n",
       "\n",
       "    .dataframe tbody tr th {\n",
       "        vertical-align: top;\n",
       "    }\n",
       "\n",
       "    .dataframe thead th {\n",
       "        text-align: right;\n",
       "    }\n",
       "</style>\n",
       "<table border=\"1\" class=\"dataframe\">\n",
       "  <thead>\n",
       "    <tr style=\"text-align: right;\">\n",
       "      <th></th>\n",
       "      <th>Id</th>\n",
       "      <th>EmployeeName</th>\n",
       "      <th>JobTitle</th>\n",
       "      <th>BasePay</th>\n",
       "      <th>OvertimePay</th>\n",
       "      <th>OtherPay</th>\n",
       "      <th>Benefits</th>\n",
       "      <th>TotalPay</th>\n",
       "      <th>TotalPayBenefits</th>\n",
       "      <th>Year</th>\n",
       "      <th>Agency</th>\n",
       "    </tr>\n",
       "  </thead>\n",
       "  <tbody>\n",
       "    <tr>\n",
       "      <th>0</th>\n",
       "      <td>1</td>\n",
       "      <td>NATHANIEL FORD</td>\n",
       "      <td>general manager-metropolitan transit authority</td>\n",
       "      <td>167411.18</td>\n",
       "      <td>0.00</td>\n",
       "      <td>400184.25</td>\n",
       "      <td>0.0</td>\n",
       "      <td>567595.43</td>\n",
       "      <td>567595.43</td>\n",
       "      <td>2011</td>\n",
       "      <td>San Francisco</td>\n",
       "    </tr>\n",
       "    <tr>\n",
       "      <th>1</th>\n",
       "      <td>2</td>\n",
       "      <td>GARY JIMENEZ</td>\n",
       "      <td>captain iii (police department)</td>\n",
       "      <td>155966.02</td>\n",
       "      <td>245131.88</td>\n",
       "      <td>137811.38</td>\n",
       "      <td>0.0</td>\n",
       "      <td>538909.28</td>\n",
       "      <td>538909.28</td>\n",
       "      <td>2011</td>\n",
       "      <td>San Francisco</td>\n",
       "    </tr>\n",
       "    <tr>\n",
       "      <th>2</th>\n",
       "      <td>3</td>\n",
       "      <td>ALBERT PARDINI</td>\n",
       "      <td>captain iii (police department)</td>\n",
       "      <td>212739.13</td>\n",
       "      <td>106088.18</td>\n",
       "      <td>16452.60</td>\n",
       "      <td>0.0</td>\n",
       "      <td>335279.91</td>\n",
       "      <td>335279.91</td>\n",
       "      <td>2011</td>\n",
       "      <td>San Francisco</td>\n",
       "    </tr>\n",
       "    <tr>\n",
       "      <th>3</th>\n",
       "      <td>4</td>\n",
       "      <td>CHRISTOPHER CHONG</td>\n",
       "      <td>wire rope cable maintenance mechanic</td>\n",
       "      <td>77916.00</td>\n",
       "      <td>56120.71</td>\n",
       "      <td>198306.90</td>\n",
       "      <td>0.0</td>\n",
       "      <td>332343.61</td>\n",
       "      <td>332343.61</td>\n",
       "      <td>2011</td>\n",
       "      <td>San Francisco</td>\n",
       "    </tr>\n",
       "    <tr>\n",
       "      <th>4</th>\n",
       "      <td>5</td>\n",
       "      <td>PATRICK GARDNER</td>\n",
       "      <td>deputy chief of department,(fire department)</td>\n",
       "      <td>134401.60</td>\n",
       "      <td>9737.00</td>\n",
       "      <td>182234.59</td>\n",
       "      <td>0.0</td>\n",
       "      <td>326373.19</td>\n",
       "      <td>326373.19</td>\n",
       "      <td>2011</td>\n",
       "      <td>San Francisco</td>\n",
       "    </tr>\n",
       "  </tbody>\n",
       "</table>\n",
       "</div>"
      ],
      "text/plain": [
       "   Id       EmployeeName                                        JobTitle  \\\n",
       "0   1     NATHANIEL FORD  general manager-metropolitan transit authority   \n",
       "1   2       GARY JIMENEZ                 captain iii (police department)   \n",
       "2   3     ALBERT PARDINI                 captain iii (police department)   \n",
       "3   4  CHRISTOPHER CHONG            wire rope cable maintenance mechanic   \n",
       "4   5    PATRICK GARDNER    deputy chief of department,(fire department)   \n",
       "\n",
       "     BasePay  OvertimePay   OtherPay  Benefits   TotalPay  TotalPayBenefits  \\\n",
       "0  167411.18         0.00  400184.25       0.0  567595.43         567595.43   \n",
       "1  155966.02    245131.88  137811.38       0.0  538909.28         538909.28   \n",
       "2  212739.13    106088.18   16452.60       0.0  335279.91         335279.91   \n",
       "3   77916.00     56120.71  198306.90       0.0  332343.61         332343.61   \n",
       "4  134401.60      9737.00  182234.59       0.0  326373.19         326373.19   \n",
       "\n",
       "   Year         Agency  \n",
       "0  2011  San Francisco  \n",
       "1  2011  San Francisco  \n",
       "2  2011  San Francisco  \n",
       "3  2011  San Francisco  \n",
       "4  2011  San Francisco  "
      ]
     },
     "execution_count": 71,
     "metadata": {},
     "output_type": "execute_result"
    }
   ],
   "source": [
    "df.head()"
   ]
  },
  {
   "cell_type": "code",
   "execution_count": 72,
   "id": "b58b6296",
   "metadata": {
    "execution": {
     "iopub.execute_input": "2023-10-04T09:50:19.799951Z",
     "iopub.status.busy": "2023-10-04T09:50:19.799341Z",
     "iopub.status.idle": "2023-10-04T09:50:19.805878Z",
     "shell.execute_reply": "2023-10-04T09:50:19.805186Z"
    },
    "papermill": {
     "duration": 0.029393,
     "end_time": "2023-10-04T09:50:19.807786",
     "exception": false,
     "start_time": "2023-10-04T09:50:19.778393",
     "status": "completed"
    },
    "tags": []
   },
   "outputs": [
    {
     "data": {
      "text/plain": [
       "245131.88"
      ]
     },
     "execution_count": 72,
     "metadata": {},
     "output_type": "execute_result"
    }
   ],
   "source": [
    "df['OvertimePay'].max()"
   ]
  },
  {
   "cell_type": "markdown",
   "id": "2cd53337",
   "metadata": {
    "papermill": {
     "duration": 0.018839,
     "end_time": "2023-10-04T09:50:19.885402",
     "exception": false,
     "start_time": "2023-10-04T09:50:19.866563",
     "status": "completed"
    },
    "tags": []
   },
   "source": [
    "# What is the job title Of JOSEPH DRISCOLL"
   ]
  },
  {
   "cell_type": "code",
   "execution_count": 73,
   "id": "2f7ca227",
   "metadata": {
    "execution": {
     "iopub.execute_input": "2023-10-04T09:50:19.925868Z",
     "iopub.status.busy": "2023-10-04T09:50:19.925161Z",
     "iopub.status.idle": "2023-10-04T09:50:19.946028Z",
     "shell.execute_reply": "2023-10-04T09:50:19.945240Z"
    },
    "papermill": {
     "duration": 0.043672,
     "end_time": "2023-10-04T09:50:19.948224",
     "exception": false,
     "start_time": "2023-10-04T09:50:19.904552",
     "status": "completed"
    },
    "tags": []
   },
   "outputs": [
    {
     "data": {
      "text/plain": [
       "24    captain, fire suppression\n",
       "Name: JobTitle, dtype: object"
      ]
     },
     "execution_count": 73,
     "metadata": {},
     "output_type": "execute_result"
    }
   ],
   "source": [
    "df[df['EmployeeName'] == 'JOSEPH DRISCOLL']['JobTitle']"
   ]
  },
  {
   "cell_type": "markdown",
   "id": "7ff6c85e",
   "metadata": {
    "papermill": {
     "duration": 0.019054,
     "end_time": "2023-10-04T09:50:19.987001",
     "exception": false,
     "start_time": "2023-10-04T09:50:19.967947",
     "status": "completed"
    },
    "tags": []
   },
   "source": [
    "# How much does JOSEPH DRISCOLL make (including benefits)?\n"
   ]
  },
  {
   "cell_type": "code",
   "execution_count": 74,
   "id": "c31abb89",
   "metadata": {
    "execution": {
     "iopub.execute_input": "2023-10-04T09:50:20.027951Z",
     "iopub.status.busy": "2023-10-04T09:50:20.027576Z",
     "iopub.status.idle": "2023-10-04T09:50:20.050980Z",
     "shell.execute_reply": "2023-10-04T09:50:20.050250Z"
    },
    "papermill": {
     "duration": 0.046684,
     "end_time": "2023-10-04T09:50:20.053075",
     "exception": false,
     "start_time": "2023-10-04T09:50:20.006391",
     "status": "completed"
    },
    "tags": []
   },
   "outputs": [
    {
     "data": {
      "text/plain": [
       "24    270324.91\n",
       "Name: TotalPayBenefits, dtype: float64"
      ]
     },
     "execution_count": 74,
     "metadata": {},
     "output_type": "execute_result"
    }
   ],
   "source": [
    "df[df['EmployeeName'] == 'JOSEPH DRISCOLL']['TotalPayBenefits']"
   ]
  },
  {
   "cell_type": "markdown",
   "id": "097fdd62",
   "metadata": {
    "papermill": {
     "duration": 0.019629,
     "end_time": "2023-10-04T09:50:20.094299",
     "exception": false,
     "start_time": "2023-10-04T09:50:20.074670",
     "status": "completed"
    },
    "tags": []
   },
   "source": [
    "# What is the name of highest paid person (including benefits)?\n"
   ]
  },
  {
   "cell_type": "code",
   "execution_count": 75,
   "id": "48b41340",
   "metadata": {
    "execution": {
     "iopub.execute_input": "2023-10-04T09:50:20.136322Z",
     "iopub.status.busy": "2023-10-04T09:50:20.135015Z",
     "iopub.status.idle": "2023-10-04T09:50:20.143766Z",
     "shell.execute_reply": "2023-10-04T09:50:20.142772Z"
    },
    "papermill": {
     "duration": 0.032048,
     "end_time": "2023-10-04T09:50:20.145743",
     "exception": false,
     "start_time": "2023-10-04T09:50:20.113695",
     "status": "completed"
    },
    "tags": []
   },
   "outputs": [
    {
     "data": {
      "text/plain": [
       "0    NATHANIEL FORD\n",
       "Name: EmployeeName, dtype: object"
      ]
     },
     "execution_count": 75,
     "metadata": {},
     "output_type": "execute_result"
    }
   ],
   "source": [
    "df[df['TotalPayBenefits'] == 567595.43]['EmployeeName']"
   ]
  },
  {
   "cell_type": "markdown",
   "id": "9854bb88",
   "metadata": {
    "papermill": {
     "duration": 0.02035,
     "end_time": "2023-10-04T09:50:20.185729",
     "exception": false,
     "start_time": "2023-10-04T09:50:20.165379",
     "status": "completed"
    },
    "tags": []
   },
   "source": [
    "# What is the name Of lowest paid person (including benefits)?\n"
   ]
  },
  {
   "cell_type": "code",
   "execution_count": 76,
   "id": "8e4ee80a",
   "metadata": {
    "execution": {
     "iopub.execute_input": "2023-10-04T09:50:20.228629Z",
     "iopub.status.busy": "2023-10-04T09:50:20.227486Z",
     "iopub.status.idle": "2023-10-04T09:50:20.242148Z",
     "shell.execute_reply": "2023-10-04T09:50:20.241108Z"
    },
    "papermill": {
     "duration": 0.038294,
     "end_time": "2023-10-04T09:50:20.244309",
     "exception": false,
     "start_time": "2023-10-04T09:50:20.206015",
     "status": "completed"
    },
    "tags": []
   },
   "outputs": [
    {
     "data": {
      "text/html": [
       "<div>\n",
       "<style scoped>\n",
       "    .dataframe tbody tr th:only-of-type {\n",
       "        vertical-align: middle;\n",
       "    }\n",
       "\n",
       "    .dataframe tbody tr th {\n",
       "        vertical-align: top;\n",
       "    }\n",
       "\n",
       "    .dataframe thead th {\n",
       "        text-align: right;\n",
       "    }\n",
       "</style>\n",
       "<table border=\"1\" class=\"dataframe\">\n",
       "  <thead>\n",
       "    <tr style=\"text-align: right;\">\n",
       "      <th></th>\n",
       "      <th>Id</th>\n",
       "      <th>EmployeeName</th>\n",
       "      <th>JobTitle</th>\n",
       "      <th>BasePay</th>\n",
       "      <th>OvertimePay</th>\n",
       "      <th>OtherPay</th>\n",
       "      <th>Benefits</th>\n",
       "      <th>TotalPay</th>\n",
       "      <th>TotalPayBenefits</th>\n",
       "      <th>Year</th>\n",
       "      <th>Agency</th>\n",
       "    </tr>\n",
       "  </thead>\n",
       "  <tbody>\n",
       "    <tr>\n",
       "      <th>148653</th>\n",
       "      <td>148654</td>\n",
       "      <td>Joe Lopez</td>\n",
       "      <td>counselor, log cabin ranch</td>\n",
       "      <td>0.0</td>\n",
       "      <td>0.0</td>\n",
       "      <td>-618.13</td>\n",
       "      <td>0.0</td>\n",
       "      <td>-618.13</td>\n",
       "      <td>-618.13</td>\n",
       "      <td>2014</td>\n",
       "      <td>San Francisco</td>\n",
       "    </tr>\n",
       "  </tbody>\n",
       "</table>\n",
       "</div>"
      ],
      "text/plain": [
       "            Id EmployeeName                    JobTitle  BasePay  OvertimePay  \\\n",
       "148653  148654    Joe Lopez  counselor, log cabin ranch      0.0          0.0   \n",
       "\n",
       "        OtherPay  Benefits  TotalPay  TotalPayBenefits  Year         Agency  \n",
       "148653   -618.13       0.0   -618.13           -618.13  2014  San Francisco  "
      ]
     },
     "execution_count": 76,
     "metadata": {},
     "output_type": "execute_result"
    }
   ],
   "source": [
    "df[df['TotalPayBenefits'] == -618.13]"
   ]
  },
  {
   "cell_type": "markdown",
   "id": "fa738b7e",
   "metadata": {
    "papermill": {
     "duration": 0.019938,
     "end_time": "2023-10-04T09:50:20.283782",
     "exception": false,
     "start_time": "2023-10-04T09:50:20.263844",
     "status": "completed"
    },
    "tags": []
   },
   "source": [
    "# What was the average (mean) BasePay Of all employees per year? (2011-2014) ?\n"
   ]
  },
  {
   "cell_type": "code",
   "execution_count": 77,
   "id": "17cb21fa",
   "metadata": {
    "execution": {
     "iopub.execute_input": "2023-10-04T09:50:20.325082Z",
     "iopub.status.busy": "2023-10-04T09:50:20.324429Z",
     "iopub.status.idle": "2023-10-04T09:50:20.339163Z",
     "shell.execute_reply": "2023-10-04T09:50:20.338455Z"
    },
    "papermill": {
     "duration": 0.037968,
     "end_time": "2023-10-04T09:50:20.341221",
     "exception": false,
     "start_time": "2023-10-04T09:50:20.303253",
     "status": "completed"
    },
    "tags": []
   },
   "outputs": [
    {
     "data": {
      "text/plain": [
       "Year\n",
       "2011    63601.233314\n",
       "2012    65436.406857\n",
       "2013    69630.030216\n",
       "2014    66604.609390\n",
       "Name: BasePay, dtype: float64"
      ]
     },
     "execution_count": 77,
     "metadata": {},
     "output_type": "execute_result"
    }
   ],
   "source": [
    "df.groupby('Year')['BasePay'].mean()"
   ]
  },
  {
   "cell_type": "markdown",
   "id": "a4fd0fd3",
   "metadata": {
    "papermill": {
     "duration": 0.019711,
     "end_time": "2023-10-04T09:50:20.381036",
     "exception": false,
     "start_time": "2023-10-04T09:50:20.361325",
     "status": "completed"
    },
    "tags": []
   },
   "source": [
    "# How many unique job titles are there?\n"
   ]
  },
  {
   "cell_type": "code",
   "execution_count": 78,
   "id": "ebfdd236",
   "metadata": {
    "execution": {
     "iopub.execute_input": "2023-10-04T09:50:20.423487Z",
     "iopub.status.busy": "2023-10-04T09:50:20.422793Z",
     "iopub.status.idle": "2023-10-04T09:50:20.442818Z",
     "shell.execute_reply": "2023-10-04T09:50:20.441704Z"
    },
    "papermill": {
     "duration": 0.044417,
     "end_time": "2023-10-04T09:50:20.445022",
     "exception": false,
     "start_time": "2023-10-04T09:50:20.400605",
     "status": "completed"
    },
    "tags": []
   },
   "outputs": [
    {
     "data": {
      "text/html": [
       "<div>\n",
       "<style scoped>\n",
       "    .dataframe tbody tr th:only-of-type {\n",
       "        vertical-align: middle;\n",
       "    }\n",
       "\n",
       "    .dataframe tbody tr th {\n",
       "        vertical-align: top;\n",
       "    }\n",
       "\n",
       "    .dataframe thead th {\n",
       "        text-align: right;\n",
       "    }\n",
       "</style>\n",
       "<table border=\"1\" class=\"dataframe\">\n",
       "  <thead>\n",
       "    <tr style=\"text-align: right;\">\n",
       "      <th></th>\n",
       "      <th>Id</th>\n",
       "      <th>EmployeeName</th>\n",
       "      <th>JobTitle</th>\n",
       "      <th>BasePay</th>\n",
       "      <th>OvertimePay</th>\n",
       "      <th>OtherPay</th>\n",
       "      <th>Benefits</th>\n",
       "      <th>TotalPay</th>\n",
       "      <th>TotalPayBenefits</th>\n",
       "      <th>Year</th>\n",
       "      <th>Agency</th>\n",
       "    </tr>\n",
       "  </thead>\n",
       "  <tbody>\n",
       "    <tr>\n",
       "      <th>0</th>\n",
       "      <td>1</td>\n",
       "      <td>NATHANIEL FORD</td>\n",
       "      <td>general manager-metropolitan transit authority</td>\n",
       "      <td>167411.18</td>\n",
       "      <td>0.00</td>\n",
       "      <td>400184.25</td>\n",
       "      <td>0.0</td>\n",
       "      <td>567595.43</td>\n",
       "      <td>567595.43</td>\n",
       "      <td>2011</td>\n",
       "      <td>San Francisco</td>\n",
       "    </tr>\n",
       "    <tr>\n",
       "      <th>1</th>\n",
       "      <td>2</td>\n",
       "      <td>GARY JIMENEZ</td>\n",
       "      <td>captain iii (police department)</td>\n",
       "      <td>155966.02</td>\n",
       "      <td>245131.88</td>\n",
       "      <td>137811.38</td>\n",
       "      <td>0.0</td>\n",
       "      <td>538909.28</td>\n",
       "      <td>538909.28</td>\n",
       "      <td>2011</td>\n",
       "      <td>San Francisco</td>\n",
       "    </tr>\n",
       "    <tr>\n",
       "      <th>2</th>\n",
       "      <td>3</td>\n",
       "      <td>ALBERT PARDINI</td>\n",
       "      <td>captain iii (police department)</td>\n",
       "      <td>212739.13</td>\n",
       "      <td>106088.18</td>\n",
       "      <td>16452.60</td>\n",
       "      <td>0.0</td>\n",
       "      <td>335279.91</td>\n",
       "      <td>335279.91</td>\n",
       "      <td>2011</td>\n",
       "      <td>San Francisco</td>\n",
       "    </tr>\n",
       "    <tr>\n",
       "      <th>3</th>\n",
       "      <td>4</td>\n",
       "      <td>CHRISTOPHER CHONG</td>\n",
       "      <td>wire rope cable maintenance mechanic</td>\n",
       "      <td>77916.00</td>\n",
       "      <td>56120.71</td>\n",
       "      <td>198306.90</td>\n",
       "      <td>0.0</td>\n",
       "      <td>332343.61</td>\n",
       "      <td>332343.61</td>\n",
       "      <td>2011</td>\n",
       "      <td>San Francisco</td>\n",
       "    </tr>\n",
       "    <tr>\n",
       "      <th>4</th>\n",
       "      <td>5</td>\n",
       "      <td>PATRICK GARDNER</td>\n",
       "      <td>deputy chief of department,(fire department)</td>\n",
       "      <td>134401.60</td>\n",
       "      <td>9737.00</td>\n",
       "      <td>182234.59</td>\n",
       "      <td>0.0</td>\n",
       "      <td>326373.19</td>\n",
       "      <td>326373.19</td>\n",
       "      <td>2011</td>\n",
       "      <td>San Francisco</td>\n",
       "    </tr>\n",
       "  </tbody>\n",
       "</table>\n",
       "</div>"
      ],
      "text/plain": [
       "   Id       EmployeeName                                        JobTitle  \\\n",
       "0   1     NATHANIEL FORD  general manager-metropolitan transit authority   \n",
       "1   2       GARY JIMENEZ                 captain iii (police department)   \n",
       "2   3     ALBERT PARDINI                 captain iii (police department)   \n",
       "3   4  CHRISTOPHER CHONG            wire rope cable maintenance mechanic   \n",
       "4   5    PATRICK GARDNER    deputy chief of department,(fire department)   \n",
       "\n",
       "     BasePay  OvertimePay   OtherPay  Benefits   TotalPay  TotalPayBenefits  \\\n",
       "0  167411.18         0.00  400184.25       0.0  567595.43         567595.43   \n",
       "1  155966.02    245131.88  137811.38       0.0  538909.28         538909.28   \n",
       "2  212739.13    106088.18   16452.60       0.0  335279.91         335279.91   \n",
       "3   77916.00     56120.71  198306.90       0.0  332343.61         332343.61   \n",
       "4  134401.60      9737.00  182234.59       0.0  326373.19         326373.19   \n",
       "\n",
       "   Year         Agency  \n",
       "0  2011  San Francisco  \n",
       "1  2011  San Francisco  \n",
       "2  2011  San Francisco  \n",
       "3  2011  San Francisco  \n",
       "4  2011  San Francisco  "
      ]
     },
     "execution_count": 78,
     "metadata": {},
     "output_type": "execute_result"
    }
   ],
   "source": [
    "df.head()\n"
   ]
  },
  {
   "cell_type": "code",
   "execution_count": 79,
   "id": "b59ec3eb",
   "metadata": {
    "execution": {
     "iopub.execute_input": "2023-10-04T09:50:20.494370Z",
     "iopub.status.busy": "2023-10-04T09:50:20.493484Z",
     "iopub.status.idle": "2023-10-04T09:50:20.521970Z",
     "shell.execute_reply": "2023-10-04T09:50:20.520659Z"
    },
    "papermill": {
     "duration": 0.056916,
     "end_time": "2023-10-04T09:50:20.524528",
     "exception": false,
     "start_time": "2023-10-04T09:50:20.467612",
     "status": "completed"
    },
    "tags": []
   },
   "outputs": [
    {
     "data": {
      "text/plain": [
       "array(['general manager-metropolitan transit authority',\n",
       "       'captain iii (police department)',\n",
       "       'wire rope cable maintenance mechanic', ...,\n",
       "       'forensic toxicologist supervis', 'conversion', 'cashier 3'],\n",
       "      dtype=object)"
      ]
     },
     "execution_count": 79,
     "metadata": {},
     "output_type": "execute_result"
    }
   ],
   "source": [
    "df['JobTitle'].unique()\n"
   ]
  },
  {
   "cell_type": "markdown",
   "id": "07608ea3",
   "metadata": {
    "papermill": {
     "duration": 0.023715,
     "end_time": "2023-10-04T09:50:20.569542",
     "exception": false,
     "start_time": "2023-10-04T09:50:20.545827",
     "status": "completed"
    },
    "tags": []
   },
   "source": [
    "# What are the top 5 most common jobs?\n"
   ]
  },
  {
   "cell_type": "code",
   "execution_count": 80,
   "id": "12d25e3c",
   "metadata": {
    "execution": {
     "iopub.execute_input": "2023-10-04T09:50:20.625870Z",
     "iopub.status.busy": "2023-10-04T09:50:20.625524Z",
     "iopub.status.idle": "2023-10-04T09:50:20.649321Z",
     "shell.execute_reply": "2023-10-04T09:50:20.648253Z"
    },
    "papermill": {
     "duration": 0.050224,
     "end_time": "2023-10-04T09:50:20.651547",
     "exception": false,
     "start_time": "2023-10-04T09:50:20.601323",
     "status": "completed"
    },
    "tags": []
   },
   "outputs": [
    {
     "data": {
      "text/plain": [
       "JobTitle\n",
       "transit operator    9362\n",
       "special nurse       5784\n",
       "registered nurse    4944\n",
       "custodian           3202\n",
       "firefighter         3142\n",
       "Name: count, dtype: int64"
      ]
     },
     "execution_count": 80,
     "metadata": {},
     "output_type": "execute_result"
    }
   ],
   "source": [
    "df['JobTitle'].value_counts().head(5)\n"
   ]
  },
  {
   "cell_type": "markdown",
   "id": "e2b984f0",
   "metadata": {
    "papermill": {
     "duration": 0.020513,
     "end_time": "2023-10-04T09:50:20.693423",
     "exception": false,
     "start_time": "2023-10-04T09:50:20.672910",
     "status": "completed"
    },
    "tags": []
   },
   "source": [
    "# How many Job Titles were represented by only one person in 2013? (e.g. Job Titles with only one occurence in 2013?)\n"
   ]
  },
  {
   "cell_type": "code",
   "execution_count": 81,
   "id": "8f669b27",
   "metadata": {
    "execution": {
     "iopub.execute_input": "2023-10-04T09:50:20.746992Z",
     "iopub.status.busy": "2023-10-04T09:50:20.746159Z",
     "iopub.status.idle": "2023-10-04T09:50:20.755384Z",
     "shell.execute_reply": "2023-10-04T09:50:20.754449Z"
    },
    "papermill": {
     "duration": 0.034489,
     "end_time": "2023-10-04T09:50:20.757754",
     "exception": false,
     "start_time": "2023-10-04T09:50:20.723265",
     "status": "completed"
    },
    "tags": []
   },
   "outputs": [],
   "source": [
    "data_2013 = df[df['Year'] == 2013]"
   ]
  },
  {
   "cell_type": "code",
   "execution_count": 82,
   "id": "06590ca7",
   "metadata": {
    "execution": {
     "iopub.execute_input": "2023-10-04T09:50:20.802189Z",
     "iopub.status.busy": "2023-10-04T09:50:20.801414Z",
     "iopub.status.idle": "2023-10-04T09:50:20.810942Z",
     "shell.execute_reply": "2023-10-04T09:50:20.810096Z"
    },
    "papermill": {
     "duration": 0.034723,
     "end_time": "2023-10-04T09:50:20.813276",
     "exception": false,
     "start_time": "2023-10-04T09:50:20.778553",
     "status": "completed"
    },
    "tags": []
   },
   "outputs": [],
   "source": [
    "num_of_jobs = data_2013['JobTitle'].value_counts()\n"
   ]
  },
  {
   "cell_type": "code",
   "execution_count": 83,
   "id": "cbf73de4",
   "metadata": {
    "execution": {
     "iopub.execute_input": "2023-10-04T09:50:20.859787Z",
     "iopub.status.busy": "2023-10-04T09:50:20.858849Z",
     "iopub.status.idle": "2023-10-04T09:50:20.867128Z",
     "shell.execute_reply": "2023-10-04T09:50:20.863723Z"
    },
    "papermill": {
     "duration": 0.035703,
     "end_time": "2023-10-04T09:50:20.869523",
     "exception": false,
     "start_time": "2023-10-04T09:50:20.833820",
     "status": "completed"
    },
    "tags": []
   },
   "outputs": [],
   "source": [
    "one_time = num_of_jobs[num_of_jobs == 1]\n"
   ]
  },
  {
   "cell_type": "code",
   "execution_count": 84,
   "id": "dc71bfe5",
   "metadata": {
    "execution": {
     "iopub.execute_input": "2023-10-04T09:50:20.921965Z",
     "iopub.status.busy": "2023-10-04T09:50:20.920822Z",
     "iopub.status.idle": "2023-10-04T09:50:20.929283Z",
     "shell.execute_reply": "2023-10-04T09:50:20.928175Z"
    },
    "papermill": {
     "duration": 0.036601,
     "end_time": "2023-10-04T09:50:20.931640",
     "exception": false,
     "start_time": "2023-10-04T09:50:20.895039",
     "status": "completed"
    },
    "tags": []
   },
   "outputs": [
    {
     "data": {
      "text/plain": [
       "202"
      ]
     },
     "execution_count": 84,
     "metadata": {},
     "output_type": "execute_result"
    }
   ],
   "source": [
    "len(one_time)\n"
   ]
  },
  {
   "cell_type": "markdown",
   "id": "4a499fdc",
   "metadata": {
    "papermill": {
     "duration": 0.020686,
     "end_time": "2023-10-04T09:50:20.973044",
     "exception": false,
     "start_time": "2023-10-04T09:50:20.952358",
     "status": "completed"
    },
    "tags": []
   },
   "source": [
    "# How many people have the word Chief in their job title? (This is pretty tricky)\n"
   ]
  },
  {
   "cell_type": "code",
   "execution_count": 85,
   "id": "79afba50",
   "metadata": {
    "execution": {
     "iopub.execute_input": "2023-10-04T09:50:21.015777Z",
     "iopub.status.busy": "2023-10-04T09:50:21.014988Z",
     "iopub.status.idle": "2023-10-04T09:50:21.082621Z",
     "shell.execute_reply": "2023-10-04T09:50:21.081488Z"
    },
    "papermill": {
     "duration": 0.091677,
     "end_time": "2023-10-04T09:50:21.084814",
     "exception": false,
     "start_time": "2023-10-04T09:50:20.993137",
     "status": "completed"
    },
    "tags": []
   },
   "outputs": [
    {
     "data": {
      "text/plain": [
       "624"
      ]
     },
     "execution_count": 85,
     "metadata": {},
     "output_type": "execute_result"
    }
   ],
   "source": [
    "len(df[df['JobTitle'].str.contains('chief')])\n"
   ]
  },
  {
   "cell_type": "markdown",
   "id": "fa84febf",
   "metadata": {
    "papermill": {
     "duration": 0.020295,
     "end_time": "2023-10-04T09:50:21.125288",
     "exception": false,
     "start_time": "2023-10-04T09:50:21.104993",
     "status": "completed"
    },
    "tags": []
   },
   "source": [
    "# Bonus: Is there a correlation between length of the Job Title string and Salary?\n"
   ]
  },
  {
   "cell_type": "code",
   "execution_count": 86,
   "id": "26980f42",
   "metadata": {
    "execution": {
     "iopub.execute_input": "2023-10-04T09:50:21.167800Z",
     "iopub.status.busy": "2023-10-04T09:50:21.167153Z",
     "iopub.status.idle": "2023-10-04T09:50:21.183066Z",
     "shell.execute_reply": "2023-10-04T09:50:21.181901Z"
    },
    "papermill": {
     "duration": 0.039778,
     "end_time": "2023-10-04T09:50:21.185296",
     "exception": false,
     "start_time": "2023-10-04T09:50:21.145518",
     "status": "completed"
    },
    "tags": []
   },
   "outputs": [
    {
     "data": {
      "text/html": [
       "<div>\n",
       "<style scoped>\n",
       "    .dataframe tbody tr th:only-of-type {\n",
       "        vertical-align: middle;\n",
       "    }\n",
       "\n",
       "    .dataframe tbody tr th {\n",
       "        vertical-align: top;\n",
       "    }\n",
       "\n",
       "    .dataframe thead th {\n",
       "        text-align: right;\n",
       "    }\n",
       "</style>\n",
       "<table border=\"1\" class=\"dataframe\">\n",
       "  <thead>\n",
       "    <tr style=\"text-align: right;\">\n",
       "      <th></th>\n",
       "      <th>Id</th>\n",
       "      <th>EmployeeName</th>\n",
       "      <th>JobTitle</th>\n",
       "      <th>BasePay</th>\n",
       "      <th>OvertimePay</th>\n",
       "      <th>OtherPay</th>\n",
       "      <th>Benefits</th>\n",
       "      <th>TotalPay</th>\n",
       "      <th>TotalPayBenefits</th>\n",
       "      <th>Year</th>\n",
       "      <th>Agency</th>\n",
       "    </tr>\n",
       "  </thead>\n",
       "  <tbody>\n",
       "    <tr>\n",
       "      <th>0</th>\n",
       "      <td>1</td>\n",
       "      <td>NATHANIEL FORD</td>\n",
       "      <td>general manager-metropolitan transit authority</td>\n",
       "      <td>167411.18</td>\n",
       "      <td>0.00</td>\n",
       "      <td>400184.25</td>\n",
       "      <td>0.0</td>\n",
       "      <td>567595.43</td>\n",
       "      <td>567595.43</td>\n",
       "      <td>2011</td>\n",
       "      <td>San Francisco</td>\n",
       "    </tr>\n",
       "    <tr>\n",
       "      <th>1</th>\n",
       "      <td>2</td>\n",
       "      <td>GARY JIMENEZ</td>\n",
       "      <td>captain iii (police department)</td>\n",
       "      <td>155966.02</td>\n",
       "      <td>245131.88</td>\n",
       "      <td>137811.38</td>\n",
       "      <td>0.0</td>\n",
       "      <td>538909.28</td>\n",
       "      <td>538909.28</td>\n",
       "      <td>2011</td>\n",
       "      <td>San Francisco</td>\n",
       "    </tr>\n",
       "    <tr>\n",
       "      <th>2</th>\n",
       "      <td>3</td>\n",
       "      <td>ALBERT PARDINI</td>\n",
       "      <td>captain iii (police department)</td>\n",
       "      <td>212739.13</td>\n",
       "      <td>106088.18</td>\n",
       "      <td>16452.60</td>\n",
       "      <td>0.0</td>\n",
       "      <td>335279.91</td>\n",
       "      <td>335279.91</td>\n",
       "      <td>2011</td>\n",
       "      <td>San Francisco</td>\n",
       "    </tr>\n",
       "    <tr>\n",
       "      <th>3</th>\n",
       "      <td>4</td>\n",
       "      <td>CHRISTOPHER CHONG</td>\n",
       "      <td>wire rope cable maintenance mechanic</td>\n",
       "      <td>77916.00</td>\n",
       "      <td>56120.71</td>\n",
       "      <td>198306.90</td>\n",
       "      <td>0.0</td>\n",
       "      <td>332343.61</td>\n",
       "      <td>332343.61</td>\n",
       "      <td>2011</td>\n",
       "      <td>San Francisco</td>\n",
       "    </tr>\n",
       "    <tr>\n",
       "      <th>4</th>\n",
       "      <td>5</td>\n",
       "      <td>PATRICK GARDNER</td>\n",
       "      <td>deputy chief of department,(fire department)</td>\n",
       "      <td>134401.60</td>\n",
       "      <td>9737.00</td>\n",
       "      <td>182234.59</td>\n",
       "      <td>0.0</td>\n",
       "      <td>326373.19</td>\n",
       "      <td>326373.19</td>\n",
       "      <td>2011</td>\n",
       "      <td>San Francisco</td>\n",
       "    </tr>\n",
       "  </tbody>\n",
       "</table>\n",
       "</div>"
      ],
      "text/plain": [
       "   Id       EmployeeName                                        JobTitle  \\\n",
       "0   1     NATHANIEL FORD  general manager-metropolitan transit authority   \n",
       "1   2       GARY JIMENEZ                 captain iii (police department)   \n",
       "2   3     ALBERT PARDINI                 captain iii (police department)   \n",
       "3   4  CHRISTOPHER CHONG            wire rope cable maintenance mechanic   \n",
       "4   5    PATRICK GARDNER    deputy chief of department,(fire department)   \n",
       "\n",
       "     BasePay  OvertimePay   OtherPay  Benefits   TotalPay  TotalPayBenefits  \\\n",
       "0  167411.18         0.00  400184.25       0.0  567595.43         567595.43   \n",
       "1  155966.02    245131.88  137811.38       0.0  538909.28         538909.28   \n",
       "2  212739.13    106088.18   16452.60       0.0  335279.91         335279.91   \n",
       "3   77916.00     56120.71  198306.90       0.0  332343.61         332343.61   \n",
       "4  134401.60      9737.00  182234.59       0.0  326373.19         326373.19   \n",
       "\n",
       "   Year         Agency  \n",
       "0  2011  San Francisco  \n",
       "1  2011  San Francisco  \n",
       "2  2011  San Francisco  \n",
       "3  2011  San Francisco  \n",
       "4  2011  San Francisco  "
      ]
     },
     "execution_count": 86,
     "metadata": {},
     "output_type": "execute_result"
    }
   ],
   "source": [
    "df.head()\n"
   ]
  },
  {
   "cell_type": "code",
   "execution_count": 87,
   "id": "4534d586",
   "metadata": {
    "execution": {
     "iopub.execute_input": "2023-10-04T09:50:21.228301Z",
     "iopub.status.busy": "2023-10-04T09:50:21.227658Z",
     "iopub.status.idle": "2023-10-04T09:50:21.288366Z",
     "shell.execute_reply": "2023-10-04T09:50:21.287552Z"
    },
    "papermill": {
     "duration": 0.08498,
     "end_time": "2023-10-04T09:50:21.290635",
     "exception": false,
     "start_time": "2023-10-04T09:50:21.205655",
     "status": "completed"
    },
    "tags": []
   },
   "outputs": [],
   "source": [
    "df['len_od_job'] = df['JobTitle'].apply(lambda x: len(x))"
   ]
  },
  {
   "cell_type": "code",
   "execution_count": 88,
   "id": "aad56e9b",
   "metadata": {
    "execution": {
     "iopub.execute_input": "2023-10-04T09:50:21.334071Z",
     "iopub.status.busy": "2023-10-04T09:50:21.333439Z",
     "iopub.status.idle": "2023-10-04T09:50:21.349528Z",
     "shell.execute_reply": "2023-10-04T09:50:21.348399Z"
    },
    "papermill": {
     "duration": 0.040253,
     "end_time": "2023-10-04T09:50:21.351573",
     "exception": false,
     "start_time": "2023-10-04T09:50:21.311320",
     "status": "completed"
    },
    "tags": []
   },
   "outputs": [
    {
     "data": {
      "text/html": [
       "<div>\n",
       "<style scoped>\n",
       "    .dataframe tbody tr th:only-of-type {\n",
       "        vertical-align: middle;\n",
       "    }\n",
       "\n",
       "    .dataframe tbody tr th {\n",
       "        vertical-align: top;\n",
       "    }\n",
       "\n",
       "    .dataframe thead th {\n",
       "        text-align: right;\n",
       "    }\n",
       "</style>\n",
       "<table border=\"1\" class=\"dataframe\">\n",
       "  <thead>\n",
       "    <tr style=\"text-align: right;\">\n",
       "      <th></th>\n",
       "      <th>Id</th>\n",
       "      <th>EmployeeName</th>\n",
       "      <th>JobTitle</th>\n",
       "      <th>BasePay</th>\n",
       "      <th>OvertimePay</th>\n",
       "      <th>OtherPay</th>\n",
       "      <th>Benefits</th>\n",
       "      <th>TotalPay</th>\n",
       "      <th>TotalPayBenefits</th>\n",
       "      <th>Year</th>\n",
       "      <th>Agency</th>\n",
       "      <th>len_od_job</th>\n",
       "    </tr>\n",
       "  </thead>\n",
       "  <tbody>\n",
       "    <tr>\n",
       "      <th>0</th>\n",
       "      <td>1</td>\n",
       "      <td>NATHANIEL FORD</td>\n",
       "      <td>general manager-metropolitan transit authority</td>\n",
       "      <td>167411.18</td>\n",
       "      <td>0.00</td>\n",
       "      <td>400184.25</td>\n",
       "      <td>0.0</td>\n",
       "      <td>567595.43</td>\n",
       "      <td>567595.43</td>\n",
       "      <td>2011</td>\n",
       "      <td>San Francisco</td>\n",
       "      <td>46</td>\n",
       "    </tr>\n",
       "    <tr>\n",
       "      <th>1</th>\n",
       "      <td>2</td>\n",
       "      <td>GARY JIMENEZ</td>\n",
       "      <td>captain iii (police department)</td>\n",
       "      <td>155966.02</td>\n",
       "      <td>245131.88</td>\n",
       "      <td>137811.38</td>\n",
       "      <td>0.0</td>\n",
       "      <td>538909.28</td>\n",
       "      <td>538909.28</td>\n",
       "      <td>2011</td>\n",
       "      <td>San Francisco</td>\n",
       "      <td>31</td>\n",
       "    </tr>\n",
       "    <tr>\n",
       "      <th>2</th>\n",
       "      <td>3</td>\n",
       "      <td>ALBERT PARDINI</td>\n",
       "      <td>captain iii (police department)</td>\n",
       "      <td>212739.13</td>\n",
       "      <td>106088.18</td>\n",
       "      <td>16452.60</td>\n",
       "      <td>0.0</td>\n",
       "      <td>335279.91</td>\n",
       "      <td>335279.91</td>\n",
       "      <td>2011</td>\n",
       "      <td>San Francisco</td>\n",
       "      <td>31</td>\n",
       "    </tr>\n",
       "    <tr>\n",
       "      <th>3</th>\n",
       "      <td>4</td>\n",
       "      <td>CHRISTOPHER CHONG</td>\n",
       "      <td>wire rope cable maintenance mechanic</td>\n",
       "      <td>77916.00</td>\n",
       "      <td>56120.71</td>\n",
       "      <td>198306.90</td>\n",
       "      <td>0.0</td>\n",
       "      <td>332343.61</td>\n",
       "      <td>332343.61</td>\n",
       "      <td>2011</td>\n",
       "      <td>San Francisco</td>\n",
       "      <td>36</td>\n",
       "    </tr>\n",
       "    <tr>\n",
       "      <th>4</th>\n",
       "      <td>5</td>\n",
       "      <td>PATRICK GARDNER</td>\n",
       "      <td>deputy chief of department,(fire department)</td>\n",
       "      <td>134401.60</td>\n",
       "      <td>9737.00</td>\n",
       "      <td>182234.59</td>\n",
       "      <td>0.0</td>\n",
       "      <td>326373.19</td>\n",
       "      <td>326373.19</td>\n",
       "      <td>2011</td>\n",
       "      <td>San Francisco</td>\n",
       "      <td>44</td>\n",
       "    </tr>\n",
       "  </tbody>\n",
       "</table>\n",
       "</div>"
      ],
      "text/plain": [
       "   Id       EmployeeName                                        JobTitle  \\\n",
       "0   1     NATHANIEL FORD  general manager-metropolitan transit authority   \n",
       "1   2       GARY JIMENEZ                 captain iii (police department)   \n",
       "2   3     ALBERT PARDINI                 captain iii (police department)   \n",
       "3   4  CHRISTOPHER CHONG            wire rope cable maintenance mechanic   \n",
       "4   5    PATRICK GARDNER    deputy chief of department,(fire department)   \n",
       "\n",
       "     BasePay  OvertimePay   OtherPay  Benefits   TotalPay  TotalPayBenefits  \\\n",
       "0  167411.18         0.00  400184.25       0.0  567595.43         567595.43   \n",
       "1  155966.02    245131.88  137811.38       0.0  538909.28         538909.28   \n",
       "2  212739.13    106088.18   16452.60       0.0  335279.91         335279.91   \n",
       "3   77916.00     56120.71  198306.90       0.0  332343.61         332343.61   \n",
       "4  134401.60      9737.00  182234.59       0.0  326373.19         326373.19   \n",
       "\n",
       "   Year         Agency  len_od_job  \n",
       "0  2011  San Francisco          46  \n",
       "1  2011  San Francisco          31  \n",
       "2  2011  San Francisco          31  \n",
       "3  2011  San Francisco          36  \n",
       "4  2011  San Francisco          44  "
      ]
     },
     "execution_count": 88,
     "metadata": {},
     "output_type": "execute_result"
    }
   ],
   "source": [
    "df.head()\n"
   ]
  },
  {
   "cell_type": "code",
   "execution_count": 89,
   "id": "aa726e3a",
   "metadata": {
    "execution": {
     "iopub.execute_input": "2023-10-04T09:50:21.395375Z",
     "iopub.status.busy": "2023-10-04T09:50:21.394713Z",
     "iopub.status.idle": "2023-10-04T09:50:22.230887Z",
     "shell.execute_reply": "2023-10-04T09:50:22.229987Z"
    },
    "papermill": {
     "duration": 0.860952,
     "end_time": "2023-10-04T09:50:22.233358",
     "exception": false,
     "start_time": "2023-10-04T09:50:21.372406",
     "status": "completed"
    },
    "tags": []
   },
   "outputs": [
    {
     "data": {
      "text/plain": [
       "<Axes: xlabel='TotalPayBenefits', ylabel='len_od_job'>"
      ]
     },
     "execution_count": 89,
     "metadata": {},
     "output_type": "execute_result"
    },
    {
     "data": {
      "image/png": "[encoded data removed]",
      "text/plain": [
       "<Figure size 640x480 with 1 Axes>"
      ]
     },
     "metadata": {},
     "output_type": "display_data"
    }
   ],
   "source": [
    "sns.scatterplot(data=df, y='len_od_job', x='TotalPayBenefits')"
   ]
  },
  {
   "cell_type": "code",
   "execution_count": 90,
   "id": "bd4335a8",
   "metadata": {
    "execution": {
     "iopub.execute_input": "2023-10-04T09:50:22.287102Z",
     "iopub.status.busy": "2023-10-04T09:50:22.286105Z",
     "iopub.status.idle": "2023-10-04T09:50:22.295156Z",
     "shell.execute_reply": "2023-10-04T09:50:22.293925Z"
    },
    "papermill": {
     "duration": 0.039525,
     "end_time": "2023-10-04T09:50:22.297152",
     "exception": false,
     "start_time": "2023-10-04T09:50:22.257627",
     "status": "completed"
    },
    "tags": []
   },
   "outputs": [
    {
     "data": {
      "text/plain": [
       "Index(['Id', 'EmployeeName', 'JobTitle', 'BasePay', 'OvertimePay', 'OtherPay',\n",
       "       'Benefits', 'TotalPay', 'TotalPayBenefits', 'Year', 'Agency',\n",
       "       'len_od_job'],\n",
       "      dtype='object')"
      ]
     },
     "execution_count": 90,
     "metadata": {},
     "output_type": "execute_result"
    }
   ],
   "source": [
    "df.columns\n"
   ]
  },
  {
   "cell_type": "code",
   "execution_count": 91,
   "id": "d92ada10",
   "metadata": {
    "execution": {
     "iopub.execute_input": "2023-10-04T09:50:22.343945Z",
     "iopub.status.busy": "2023-10-04T09:50:22.343343Z",
     "iopub.status.idle": "2023-10-04T09:50:22.356938Z",
     "shell.execute_reply": "2023-10-04T09:50:22.355789Z"
    },
    "papermill": {
     "duration": 0.039697,
     "end_time": "2023-10-04T09:50:22.359263",
     "exception": false,
     "start_time": "2023-10-04T09:50:22.319566",
     "status": "completed"
    },
    "tags": []
   },
   "outputs": [],
   "source": [
    "dfcor = df[[ 'BasePay', 'OvertimePay', 'OtherPay',\n",
    "       'Benefits', 'TotalPay', 'TotalPayBenefits', 'Year', \n",
    "       'len_od_job']]"
   ]
  },
  {
   "cell_type": "code",
   "execution_count": 92,
   "id": "be6a703e",
   "metadata": {
    "execution": {
     "iopub.execute_input": "2023-10-04T09:50:22.406994Z",
     "iopub.status.busy": "2023-10-04T09:50:22.406587Z",
     "iopub.status.idle": "2023-10-04T09:50:22.425517Z",
     "shell.execute_reply": "2023-10-04T09:50:22.424429Z"
    },
    "papermill": {
     "duration": 0.045236,
     "end_time": "2023-10-04T09:50:22.427651",
     "exception": false,
     "start_time": "2023-10-04T09:50:22.382415",
     "status": "completed"
    },
    "tags": []
   },
   "outputs": [
    {
     "data": {
      "text/html": [
       "<div>\n",
       "<style scoped>\n",
       "    .dataframe tbody tr th:only-of-type {\n",
       "        vertical-align: middle;\n",
       "    }\n",
       "\n",
       "    .dataframe tbody tr th {\n",
       "        vertical-align: top;\n",
       "    }\n",
       "\n",
       "    .dataframe thead th {\n",
       "        text-align: right;\n",
       "    }\n",
       "</style>\n",
       "<table border=\"1\" class=\"dataframe\">\n",
       "  <thead>\n",
       "    <tr style=\"text-align: right;\">\n",
       "      <th></th>\n",
       "      <th>BasePay</th>\n",
       "      <th>OvertimePay</th>\n",
       "      <th>OtherPay</th>\n",
       "      <th>Benefits</th>\n",
       "      <th>TotalPay</th>\n",
       "      <th>TotalPayBenefits</th>\n",
       "      <th>Year</th>\n",
       "      <th>len_od_job</th>\n",
       "    </tr>\n",
       "  </thead>\n",
       "  <tbody>\n",
       "    <tr>\n",
       "      <th>0</th>\n",
       "      <td>167411.18</td>\n",
       "      <td>0.00</td>\n",
       "      <td>400184.25</td>\n",
       "      <td>0.00</td>\n",
       "      <td>567595.43</td>\n",
       "      <td>567595.43</td>\n",
       "      <td>2011</td>\n",
       "      <td>46</td>\n",
       "    </tr>\n",
       "    <tr>\n",
       "      <th>1</th>\n",
       "      <td>155966.02</td>\n",
       "      <td>245131.88</td>\n",
       "      <td>137811.38</td>\n",
       "      <td>0.00</td>\n",
       "      <td>538909.28</td>\n",
       "      <td>538909.28</td>\n",
       "      <td>2011</td>\n",
       "      <td>31</td>\n",
       "    </tr>\n",
       "    <tr>\n",
       "      <th>2</th>\n",
       "      <td>212739.13</td>\n",
       "      <td>106088.18</td>\n",
       "      <td>16452.60</td>\n",
       "      <td>0.00</td>\n",
       "      <td>335279.91</td>\n",
       "      <td>335279.91</td>\n",
       "      <td>2011</td>\n",
       "      <td>31</td>\n",
       "    </tr>\n",
       "    <tr>\n",
       "      <th>3</th>\n",
       "      <td>77916.00</td>\n",
       "      <td>56120.71</td>\n",
       "      <td>198306.90</td>\n",
       "      <td>0.00</td>\n",
       "      <td>332343.61</td>\n",
       "      <td>332343.61</td>\n",
       "      <td>2011</td>\n",
       "      <td>36</td>\n",
       "    </tr>\n",
       "    <tr>\n",
       "      <th>4</th>\n",
       "      <td>134401.60</td>\n",
       "      <td>9737.00</td>\n",
       "      <td>182234.59</td>\n",
       "      <td>0.00</td>\n",
       "      <td>326373.19</td>\n",
       "      <td>326373.19</td>\n",
       "      <td>2011</td>\n",
       "      <td>44</td>\n",
       "    </tr>\n",
       "    <tr>\n",
       "      <th>...</th>\n",
       "      <td>...</td>\n",
       "      <td>...</td>\n",
       "      <td>...</td>\n",
       "      <td>...</td>\n",
       "      <td>...</td>\n",
       "      <td>...</td>\n",
       "      <td>...</td>\n",
       "      <td>...</td>\n",
       "    </tr>\n",
       "    <tr>\n",
       "      <th>148622</th>\n",
       "      <td>0.00</td>\n",
       "      <td>0.00</td>\n",
       "      <td>13.77</td>\n",
       "      <td>0.00</td>\n",
       "      <td>13.77</td>\n",
       "      <td>13.77</td>\n",
       "      <td>2014</td>\n",
       "      <td>12</td>\n",
       "    </tr>\n",
       "    <tr>\n",
       "      <th>148623</th>\n",
       "      <td>0.00</td>\n",
       "      <td>0.00</td>\n",
       "      <td>13.35</td>\n",
       "      <td>0.13</td>\n",
       "      <td>13.35</td>\n",
       "      <td>13.48</td>\n",
       "      <td>2014</td>\n",
       "      <td>25</td>\n",
       "    </tr>\n",
       "    <tr>\n",
       "      <th>148624</th>\n",
       "      <td>0.00</td>\n",
       "      <td>0.00</td>\n",
       "      <td>12.89</td>\n",
       "      <td>0.00</td>\n",
       "      <td>12.89</td>\n",
       "      <td>12.89</td>\n",
       "      <td>2014</td>\n",
       "      <td>12</td>\n",
       "    </tr>\n",
       "    <tr>\n",
       "      <th>148625</th>\n",
       "      <td>0.00</td>\n",
       "      <td>0.00</td>\n",
       "      <td>6.00</td>\n",
       "      <td>1.24</td>\n",
       "      <td>6.00</td>\n",
       "      <td>7.24</td>\n",
       "      <td>2014</td>\n",
       "      <td>16</td>\n",
       "    </tr>\n",
       "    <tr>\n",
       "      <th>148653</th>\n",
       "      <td>0.00</td>\n",
       "      <td>0.00</td>\n",
       "      <td>-618.13</td>\n",
       "      <td>0.00</td>\n",
       "      <td>-618.13</td>\n",
       "      <td>-618.13</td>\n",
       "      <td>2014</td>\n",
       "      <td>26</td>\n",
       "    </tr>\n",
       "  </tbody>\n",
       "</table>\n",
       "<p>148019 rows × 8 columns</p>\n",
       "</div>"
      ],
      "text/plain": [
       "          BasePay  OvertimePay   OtherPay  Benefits   TotalPay  \\\n",
       "0       167411.18         0.00  400184.25      0.00  567595.43   \n",
       "1       155966.02    245131.88  137811.38      0.00  538909.28   \n",
       "2       212739.13    106088.18   16452.60      0.00  335279.91   \n",
       "3        77916.00     56120.71  198306.90      0.00  332343.61   \n",
       "4       134401.60      9737.00  182234.59      0.00  326373.19   \n",
       "...           ...          ...        ...       ...        ...   \n",
       "148622       0.00         0.00      13.77      0.00      13.77   \n",
       "148623       0.00         0.00      13.35      0.13      13.35   \n",
       "148624       0.00         0.00      12.89      0.00      12.89   \n",
       "148625       0.00         0.00       6.00      1.24       6.00   \n",
       "148653       0.00         0.00    -618.13      0.00    -618.13   \n",
       "\n",
       "        TotalPayBenefits  Year  len_od_job  \n",
       "0              567595.43  2011          46  \n",
       "1              538909.28  2011          31  \n",
       "2              335279.91  2011          31  \n",
       "3              332343.61  2011          36  \n",
       "4              326373.19  2011          44  \n",
       "...                  ...   ...         ...  \n",
       "148622             13.77  2014          12  \n",
       "148623             13.48  2014          25  \n",
       "148624             12.89  2014          12  \n",
       "148625              7.24  2014          16  \n",
       "148653           -618.13  2014          26  \n",
       "\n",
       "[148019 rows x 8 columns]"
      ]
     },
     "execution_count": 92,
     "metadata": {},
     "output_type": "execute_result"
    }
   ],
   "source": [
    "dfcor"
   ]
  },
  {
   "cell_type": "code",
   "execution_count": 93,
   "id": "1b2747a6",
   "metadata": {
    "execution": {
     "iopub.execute_input": "2023-10-04T09:50:22.476127Z",
     "iopub.status.busy": "2023-10-04T09:50:22.475689Z",
     "iopub.status.idle": "2023-10-04T09:50:22.523938Z",
     "shell.execute_reply": "2023-10-04T09:50:22.522787Z"
    },
    "papermill": {
     "duration": 0.075219,
     "end_time": "2023-10-04T09:50:22.526064",
     "exception": false,
     "start_time": "2023-10-04T09:50:22.450845",
     "status": "completed"
    },
    "tags": []
   },
   "outputs": [
    {
     "data": {
      "text/plain": [
       "BasePay             0.946574\n",
       "OvertimePay         0.467499\n",
       "OtherPay            0.425606\n",
       "Benefits            0.781567\n",
       "TotalPay            0.977144\n",
       "TotalPayBenefits    1.000000\n",
       "Year                0.155306\n",
       "len_od_job         -0.036722\n",
       "Name: TotalPayBenefits, dtype: float64"
      ]
     },
     "execution_count": 93,
     "metadata": {},
     "output_type": "execute_result"
    }
   ],
   "source": [
    "dfcor.corr()['TotalPayBenefits']"
   ]
  }
 ],
 "metadata": {
  "kernelspec": {
   "display_name": "Python 3 (ipykernel)",
   "language": "python",
   "name": "python3"
  },
  "language_info": {
   "codemirror_mode": {
    "name": "ipython",
    "version": 3
   },
   "file_extension": ".py",
   "mimetype": "text/x-python",
   "name": "python",
   "nbconvert_exporter": "python",
   "pygments_lexer": "ipython3",
   "version": "3.9.12"
  },
  "papermill": {
   "default_parameters": {},
   "duration": 15.962986,
   "end_time": "2023-10-04T09:50:23.363841",
   "environment_variables": {},
   "exception": null,
   "input_path": "__notebook__.ipynb",
   "output_path": "__notebook__.ipynb",
   "parameters": {},
   "start_time": "2023-10-04T09:50:07.400855",
   "version": "2.4.0"
  }
 },
 "nbformat": 4,
 "nbformat_minor": 5
}
