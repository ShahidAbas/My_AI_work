{
 "cells": [
  {
   "cell_type": "markdown",
   "id": "235ec088",
   "metadata": {},
   "source": [
    "# functons in python"
   ]
  },
  {
   "cell_type": "code",
   "execution_count": 1,
   "id": "08e449bb",
   "metadata": {},
   "outputs": [],
   "source": [
    "def addition(x,y):\n",
    "    print(\"addition = \",x+y)\n",
    "def sub(x,y):\n",
    "    print(\"subtraction = \",x-y)\n",
    "def mul(x,y):\n",
    "    print(\"multiplication = \",x*y)\n",
    "def div(x,y):\n",
    "    print(\"division = \",x/y)\n",
    "\n",
    "    "
   ]
  },
  {
   "cell_type": "code",
   "execution_count": 4,
   "id": "8d1ceacd",
   "metadata": {},
   "outputs": [
    {
     "name": "stdout",
     "output_type": "stream",
     "text": [
      "enter value for x : 34\n",
      "enter value for y : 23\n",
      "addition =  57.0\n",
      "subtraction =  11.0\n",
      "multiplication =  782.0\n",
      "division =  1.4782608695652173\n"
     ]
    }
   ],
   "source": [
    "x=float(input(\"enter value for x : \"))\n",
    "y=float(input(\"enter value for y : \"))\n",
    "addition(x,y)\n",
    "sub(x,y)\n",
    "mul(x,y)\n",
    "div(x,y)"
   ]
  },
  {
   "cell_type": "code",
   "execution_count": 12,
   "id": "1a4a5f6c",
   "metadata": {},
   "outputs": [
    {
     "name": "stdout",
     "output_type": "stream",
     "text": [
      "vowels =  2\n",
      "consonent =  4\n"
     ]
    }
   ],
   "source": [
    "s=\"shahid\"\n",
    "v_count=0\n",
    "c_count=0\n",
    "for i in s:#s.lower()\n",
    "    if i=='a' or i=='e' or i=='i' or i=='o' or i=='u':\n",
    "        v_count+=1\n",
    "    else:\n",
    "        c_count=c_count+1\n",
    "print(\"vowels = \",v_count)\n",
    "print(\"consonent = \",c_count)"
   ]
  },
  {
   "cell_type": "code",
   "execution_count": 13,
   "id": "52bf100c",
   "metadata": {},
   "outputs": [
    {
     "data": {
      "text/plain": [
       "4"
      ]
     },
     "execution_count": 13,
     "metadata": {},
     "output_type": "execute_result"
    }
   ],
   "source": [
    "v_count\n",
    "c_count"
   ]
  },
  {
   "cell_type": "code",
   "execution_count": 14,
   "id": "31d28741",
   "metadata": {},
   "outputs": [],
   "source": [
    "def count_v_c(s):\n",
    "    v_count=0\n",
    "    c_count=0\n",
    "    for k in s.lower():\n",
    "        if k=='a' or k=='e' or k=='i' or k=='o' or k=='u':\n",
    "            v_count+=1\n",
    "        else:\n",
    "            c_count+=1\n",
    "            \n",
    "    print(\"vowels = \",v_count)\n",
    "    print(\"consonent = \",c_count)\n",
    "    "
   ]
  },
  {
   "cell_type": "code",
   "execution_count": 16,
   "id": "e4ad0e8f",
   "metadata": {},
   "outputs": [
    {
     "name": "stdout",
     "output_type": "stream",
     "text": [
      "enter words for s : hi how are you\n",
      "vowels =  6\n",
      "consonent =  8\n"
     ]
    }
   ],
   "source": [
    "s=str(input(\"enter words for s : \"))\n",
    "count_v_c(s)"
   ]
  },
  {
   "cell_type": "code",
   "execution_count": 17,
   "id": "ed02e2dc",
   "metadata": {},
   "outputs": [],
   "source": [
    "def converter(value,amount):\n",
    "    your_amount=value*amount\n",
    "    print(f\"your amount {amount} is equal to {your_amount} pkr\")"
   ]
  },
  {
   "cell_type": "code",
   "execution_count": 20,
   "id": "6a1b3a1c",
   "metadata": {},
   "outputs": [
    {
     "name": "stdout",
     "output_type": "stream",
     "text": [
      "enter value : 289\n",
      "enter amount: 2\n",
      "your amount 2.0 is equal to 578.0 pkr\n"
     ]
    }
   ],
   "source": [
    "value=float(input(\"enter value : \"))\n",
    "amount=float(input(\"enter amount: \"))\n",
    "converter(value,amount)"
   ]
  },
  {
   "cell_type": "code",
   "execution_count": null,
   "id": "a52bb2e6",
   "metadata": {},
   "outputs": [],
   "source": []
  }
 ],
 "metadata": {
  "kernelspec": {
   "display_name": "Python 3 (ipykernel)",
   "language": "python",
   "name": "python3"
  },
  "language_info": {
   "codemirror_mode": {
    "name": "ipython",
    "version": 3
   },
   "file_extension": ".py",
   "mimetype": "text/x-python",
   "name": "python",
   "nbconvert_exporter": "python",
   "pygments_lexer": "ipython3",
   "version": "3.9.12"
  }
 },
 "nbformat": 4,
 "nbformat_minor": 5
}
