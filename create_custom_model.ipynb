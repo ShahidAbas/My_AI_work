{
 "cells": [
  {
   "cell_type": "code",
   "execution_count": 21,
   "id": "e021d32e",
   "metadata": {},
   "outputs": [],
   "source": [
    "import tensorflow as tf\n",
    "from tensorflow import keras\n",
    "from tensorflow.keras import layers, models\n",
    "from sklearn.model_selection import train_test_split\n",
    "import numpy as np\n",
    "import cv2\n",
    "import os\n"
   ]
  },
  {
   "cell_type": "markdown",
   "id": "6215d493",
   "metadata": {},
   "source": [
    "# Loading dataset "
   ]
  },
  {
   "cell_type": "code",
   "execution_count": 16,
   "id": "8dc012f4",
   "metadata": {},
   "outputs": [],
   "source": [
    "path='./dataset/'\n",
    "data=[]\n",
    "labels=[]\n",
    "class_list=os.listdir(path)\n",
    "for c in class_list:\n",
    "    dir_path=os.path.join(path,c)\n",
    "    for i in os.listdir(dir_path):\n",
    "        img_path=os.path.join(dir_path,i)\n",
    "        image=cv2.imread(img_path)\n",
    "        image=cv2.resize(image,(224,224))\n",
    "        image=image/255.0\n",
    "        data.append(image)\n",
    "        if c=='fire_images':\n",
    "            labels.append(0)\n",
    "        elif c=='non_fire_images':\n",
    "            labels.append(1)\n"
   ]
  },
  {
   "cell_type": "code",
   "execution_count": 19,
   "id": "b80997a6",
   "metadata": {},
   "outputs": [
    {
     "name": "stdout",
     "output_type": "stream",
     "text": [
      "997\n",
      "997\n"
     ]
    }
   ],
   "source": [
    "print(len(data))\n",
    "print(len(labels))"
   ]
  },
  {
   "cell_type": "code",
   "execution_count": 47,
   "id": "d8c143c5",
   "metadata": {},
   "outputs": [],
   "source": [
    "images=np.array(data)\n",
    "lables=np.array(labels)"
   ]
  },
  {
   "cell_type": "code",
   "execution_count": 48,
   "id": "8f9d14a9",
   "metadata": {},
   "outputs": [],
   "source": [
    "X_train,X_valid,Y_train,Y_valid=train_test_split(images, lables, test_size=0.20,random_state=0)"
   ]
  },
  {
   "cell_type": "code",
   "execution_count": 26,
   "id": "122c3dcd",
   "metadata": {},
   "outputs": [
    {
     "name": "stdout",
     "output_type": "stream",
     "text": [
      "(797, 224, 224, 3)\n",
      "(200, 224, 224, 3)\n"
     ]
    }
   ],
   "source": [
    "print(X_train.shape)\n",
    "print(Y_train.shape)"
   ]
  },
  {
   "cell_type": "markdown",
   "id": "21b6bc87",
   "metadata": {},
   "source": [
    "# Model "
   ]
  },
  {
   "cell_type": "code",
   "execution_count": 41,
   "id": "0616a5e4",
   "metadata": {},
   "outputs": [],
   "source": [
    "def create_custom_model(input_shape=(224,224,3), number_clases=2):\n",
    "    model=models.Sequential()\n",
    "    #Block1\n",
    "    model.add(layers.Conv2D(16, kernel_size=(3,3), activation='relu', input_shape=input_shape, padding='same'))\n",
    "    model.add(layers.Conv2D(32, kernel_size=(3,3), activation='relu', padding='same'))\n",
    "    model.add(layers.MaxPooling2D((2,2)))\n",
    "    #Block2\n",
    "    model.add(layers.Conv2D(64, kernel_size=(3,3), activation='relu', padding='same'))\n",
    "    model.add(layers.Conv2D(64, kernel_size=(3,3), activation='relu', padding='same'))\n",
    "    model.add(layers.MaxPooling2D(2,2))\n",
    "    \n",
    "    #block3\n",
    "    model.add(layers.Conv2D(128, kernel_size=(3,3), activation='relu', padding='same'))\n",
    "    model.add(layers.Conv2D(128, kernel_size=(3,3), activation='relu', padding='same'))\n",
    "    model.add(layers.MaxPooling2D(2,2))\n",
    "    \n",
    "    #block4\n",
    "    model.add(layers.Conv2D(128, kernel_size=(3,3), activation='relu', padding='same'))\n",
    "    model.add(layers.Conv2D(256, kernel_size=(3,3), activation='relu', padding='same'))\n",
    "    model.add(layers.MaxPooling2D(2,2))\n",
    "    \n",
    "    #block5\n",
    "    \n",
    "    model.add(layers.Flatten())\n",
    "    model.add(layers.Dense(500, activation='relu'))\n",
    "    model.add(layers.Dense(128, activation='relu'))\n",
    "    model.add(layers.Dense(number_clases,activation='softmax'))\n",
    "    \n",
    "    return model"
   ]
  },
  {
   "cell_type": "code",
   "execution_count": 42,
   "id": "0fad5489",
   "metadata": {},
   "outputs": [],
   "source": [
    "model=create_custom_model()"
   ]
  },
  {
   "cell_type": "code",
   "execution_count": 43,
   "id": "67bbb6c0",
   "metadata": {},
   "outputs": [
    {
     "name": "stdout",
     "output_type": "stream",
     "text": [
      "Model: \"sequential_4\"\n",
      "_________________________________________________________________\n",
      " Layer (type)                Output Shape              Param #   \n",
      "=================================================================\n",
      " conv2d_16 (Conv2D)          (None, 224, 224, 16)      448       \n",
      "                                                                 \n",
      " conv2d_17 (Conv2D)          (None, 224, 224, 32)      4640      \n",
      "                                                                 \n",
      " max_pooling2d_8 (MaxPooling  (None, 112, 112, 32)     0         \n",
      " 2D)                                                             \n",
      "                                                                 \n",
      " conv2d_18 (Conv2D)          (None, 112, 112, 64)      18496     \n",
      "                                                                 \n",
      " conv2d_19 (Conv2D)          (None, 112, 112, 64)      36928     \n",
      "                                                                 \n",
      " max_pooling2d_9 (MaxPooling  (None, 56, 56, 64)       0         \n",
      " 2D)                                                             \n",
      "                                                                 \n",
      " conv2d_20 (Conv2D)          (None, 56, 56, 128)       73856     \n",
      "                                                                 \n",
      " conv2d_21 (Conv2D)          (None, 56, 56, 128)       147584    \n",
      "                                                                 \n",
      " max_pooling2d_10 (MaxPoolin  (None, 28, 28, 128)      0         \n",
      " g2D)                                                            \n",
      "                                                                 \n",
      " conv2d_22 (Conv2D)          (None, 28, 28, 128)       147584    \n",
      "                                                                 \n",
      " conv2d_23 (Conv2D)          (None, 28, 28, 256)       295168    \n",
      "                                                                 \n",
      " max_pooling2d_11 (MaxPoolin  (None, 14, 14, 256)      0         \n",
      " g2D)                                                            \n",
      "                                                                 \n",
      " flatten (Flatten)           (None, 50176)             0         \n",
      "                                                                 \n",
      " dense (Dense)               (None, 500)               25088500  \n",
      "                                                                 \n",
      " dense_1 (Dense)             (None, 128)               64128     \n",
      "                                                                 \n",
      " dense_2 (Dense)             (None, 2)                 258       \n",
      "                                                                 \n",
      "=================================================================\n",
      "Total params: 25,877,590\n",
      "Trainable params: 25,877,590\n",
      "Non-trainable params: 0\n",
      "_________________________________________________________________\n"
     ]
    }
   ],
   "source": [
    "model.summary()"
   ]
  },
  {
   "cell_type": "code",
   "execution_count": 44,
   "id": "c1e1ccd7",
   "metadata": {},
   "outputs": [],
   "source": [
    "model.compile(optimizer='adam', loss='sparse_categorical_crossentropy',metrics=['accuracy'])"
   ]
  },
  {
   "cell_type": "code",
   "execution_count": 49,
   "id": "c055a356",
   "metadata": {},
   "outputs": [
    {
     "name": "stdout",
     "output_type": "stream",
     "text": [
      "(797, 224, 224, 3)\n",
      "(797,)\n"
     ]
    }
   ],
   "source": [
    "print(X_train.shape)\n",
    "print(Y_train.shape)"
   ]
  },
  {
   "cell_type": "code",
   "execution_count": 50,
   "id": "a4d69ec8",
   "metadata": {},
   "outputs": [
    {
     "name": "stdout",
     "output_type": "stream",
     "text": [
      "Epoch 1/20\n",
      "100/100 [==============================] - 78s 763ms/step - loss: 0.6379 - accuracy: 0.7265 - val_loss: 0.6101 - val_accuracy: 0.7500\n",
      "Epoch 2/20\n",
      "100/100 [==============================] - 77s 771ms/step - loss: 0.5766 - accuracy: 0.7553 - val_loss: 0.5742 - val_accuracy: 0.7500\n",
      "Epoch 3/20\n",
      "100/100 [==============================] - 75s 751ms/step - loss: 0.5160 - accuracy: 0.7616 - val_loss: 0.4273 - val_accuracy: 0.7950\n",
      "Epoch 4/20\n",
      "100/100 [==============================] - 77s 771ms/step - loss: 0.5154 - accuracy: 0.7553 - val_loss: 0.4458 - val_accuracy: 0.7500\n",
      "Epoch 5/20\n",
      "100/100 [==============================] - 79s 791ms/step - loss: 0.3878 - accuracy: 0.7867 - val_loss: 0.4917 - val_accuracy: 0.7500\n",
      "Epoch 6/20\n",
      "100/100 [==============================] - 75s 755ms/step - loss: 0.6731 - accuracy: 0.7553 - val_loss: 0.5474 - val_accuracy: 0.7650\n",
      "Epoch 7/20\n",
      "100/100 [==============================] - 75s 748ms/step - loss: 0.5734 - accuracy: 0.7478 - val_loss: 0.4824 - val_accuracy: 0.7400\n",
      "Epoch 8/20\n",
      "100/100 [==============================] - 76s 760ms/step - loss: 0.4907 - accuracy: 0.7553 - val_loss: 0.3991 - val_accuracy: 0.7500\n",
      "Epoch 9/20\n",
      "100/100 [==============================] - 75s 749ms/step - loss: 0.5062 - accuracy: 0.7403 - val_loss: 0.4791 - val_accuracy: 0.7500\n",
      "Epoch 10/20\n",
      "100/100 [==============================] - 75s 752ms/step - loss: 0.4853 - accuracy: 0.7528 - val_loss: 0.4915 - val_accuracy: 0.7550\n",
      "Epoch 11/20\n",
      "100/100 [==============================] - 74s 745ms/step - loss: 0.4521 - accuracy: 0.7729 - val_loss: 0.4861 - val_accuracy: 0.7550\n",
      "Epoch 12/20\n",
      "100/100 [==============================] - 77s 772ms/step - loss: 0.4598 - accuracy: 0.7817 - val_loss: 0.4305 - val_accuracy: 0.7700\n",
      "Epoch 13/20\n",
      "100/100 [==============================] - 75s 747ms/step - loss: 0.4057 - accuracy: 0.7880 - val_loss: 0.3922 - val_accuracy: 0.7650\n",
      "Epoch 14/20\n",
      "100/100 [==============================] - 75s 748ms/step - loss: 0.5630 - accuracy: 0.8055 - val_loss: 0.3756 - val_accuracy: 0.7800\n",
      "Epoch 15/20\n",
      "100/100 [==============================] - 75s 746ms/step - loss: 0.5886 - accuracy: 0.7390 - val_loss: 2.6468 - val_accuracy: 0.7500\n",
      "Epoch 16/20\n",
      "100/100 [==============================] - 74s 745ms/step - loss: 0.5303 - accuracy: 0.7516 - val_loss: 0.5236 - val_accuracy: 0.7400\n",
      "Epoch 17/20\n",
      "100/100 [==============================] - 74s 744ms/step - loss: 0.5773 - accuracy: 0.7453 - val_loss: 0.7017 - val_accuracy: 0.5900\n",
      "Epoch 18/20\n",
      "100/100 [==============================] - 74s 745ms/step - loss: 0.3872 - accuracy: 0.8193 - val_loss: 0.3095 - val_accuracy: 0.8550\n",
      "Epoch 19/20\n",
      "100/100 [==============================] - 74s 745ms/step - loss: 0.3206 - accuracy: 0.8908 - val_loss: 0.3830 - val_accuracy: 0.8650\n",
      "Epoch 20/20\n",
      "100/100 [==============================] - 75s 746ms/step - loss: 0.2620 - accuracy: 0.8996 - val_loss: 0.3433 - val_accuracy: 0.8000\n"
     ]
    }
   ],
   "source": [
    "histt=model.fit(X_train,Y_train, batch_size=8, epochs=20, validation_data=(X_valid,Y_valid))"
   ]
  },
  {
   "cell_type": "code",
   "execution_count": 51,
   "id": "b193c4c4",
   "metadata": {},
   "outputs": [],
   "source": [
    "model.save('fire_classification_model.h5')"
   ]
  },
  {
   "cell_type": "code",
   "execution_count": null,
   "id": "fb4e9326",
   "metadata": {},
   "outputs": [],
   "source": [
    "  "
   ]
  }
 ],
 "metadata": {
  "kernelspec": {
   "display_name": "Python 3 (ipykernel)",
   "language": "python",
   "name": "python3"
  },
  "language_info": {
   "codemirror_mode": {
    "name": "ipython",
    "version": 3
   },
   "file_extension": ".py",
   "mimetype": "text/x-python",
   "name": "python",
   "nbconvert_exporter": "python",
   "pygments_lexer": "ipython3",
   "version": "3.9.12"
  }
 },
 "nbformat": 4,
 "nbformat_minor": 5
}
