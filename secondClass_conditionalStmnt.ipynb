{
 "cells": [
  {
   "cell_type": "markdown",
   "id": "29a1e742",
   "metadata": {},
   "source": [
    "# conditional statements"
   ]
  },
  {
   "cell_type": "markdown",
   "id": "3f75f1bf",
   "metadata": {},
   "source": [
    "# if-else"
   ]
  },
  {
   "cell_type": "code",
   "execution_count": 2,
   "id": "2b0d88a3",
   "metadata": {},
   "outputs": [
    {
     "name": "stdout",
     "output_type": "stream",
     "text": [
      "enter any number2\n",
      "greater than zero\n"
     ]
    }
   ],
   "source": [
    "n=int(input(\"enter any number\"))\n",
    "\n",
    "if n==0:\n",
    "    print(\"the number is 0\")\n",
    "elif n>0:\n",
    "    print(\"greater than zero\")\n",
    "else:\n",
    "    print(\"less than zero\")"
   ]
  },
  {
   "cell_type": "code",
   "execution_count": 6,
   "id": "5eaf4b7d",
   "metadata": {},
   "outputs": [
    {
     "name": "stdout",
     "output_type": "stream",
     "text": [
      "Enter a number0\n",
      "Enter a number3\n",
      "Enter a number2\n",
      "The largest number B\n"
     ]
    }
   ],
   "source": [
    "a = int (input(\"Enter a number\"))\n",
    "b = int (input(\"Enter a number\"))\n",
    "c = int (input(\"Enter a number\"))\n",
    "\n",
    "if (a>b):\n",
    "    print(\"The largest number is A\")\n",
    "elif(b>c):\n",
    "    print(\"The largest number B\")\n",
    "else:\n",
    "    print(\"The  largest number is C\")"
   ]
  },
  {
   "cell_type": "code",
   "execution_count": 7,
   "id": "611efc30",
   "metadata": {},
   "outputs": [
    {
     "name": "stdout",
     "output_type": "stream",
     "text": [
      "Enter number for A1\n",
      "Enter number for B2\n",
      "Enter number for C3\n",
      "C is greater\n"
     ]
    }
   ],
   "source": [
    "A=int(input(\"Enter number for A\"))\n",
    "B=int(input(\"Enter number for B\"))\n",
    "C=int(input(\"Enter number for C\"))\n",
    "\n",
    "if A>B and A>C :\n",
    "    print(\"A is greater\")\n",
    "elif B>A and B>C :\n",
    "    print(\"B is greater\")\n",
    "elif C>A and C>B :\n",
    "    print(\"C is greater\")"
   ]
  },
  {
   "cell_type": "code",
   "execution_count": 8,
   "id": "4f38b1e6",
   "metadata": {},
   "outputs": [
    {
     "name": "stdout",
     "output_type": "stream",
     "text": [
      "Please enter your age30\n",
      "Welcome to Park and this is your pie 100\n"
     ]
    }
   ],
   "source": [
    "age = int(input(\"Please enter your age\"))\n",
    "\n",
    "if(age >  3 and age < 10 ):\n",
    "    print(\"Welcome to Park and this is your pie 50\")\n",
    "elif(age > 10 and age < 18):\n",
    "    print(\"Welcome to Park and this is your pie 70\")\n",
    "else:\n",
    "    print(\"Welcome to Park and this is your pie 100\")"
   ]
  },
  {
   "cell_type": "code",
   "execution_count": 9,
   "id": "41f8525c",
   "metadata": {},
   "outputs": [
    {
     "name": "stdout",
     "output_type": "stream",
     "text": [
      "Please enter your age : 40\n",
      "Enter your name : hassan\n",
      "hassan Welcome to Park and this is your pie 100\n"
     ]
    }
   ],
   "source": [
    "age = int(input(\"Please enter your age : \"))\n",
    "name = input(\"Enter your name : \")\n",
    "\n",
    "if(age >  3 and age < 10 ):\n",
    "    print(name, \"Welcome to Park and this is your pie 50\")\n",
    "elif(age > 10 and age < 18):\n",
    "    print(name, \"Welcome to Park and this is your pie 70\")\n",
    "else:\n",
    "    print(name, \"Welcome to Park and this is your pie 100\")"
   ]
  },
  {
   "cell_type": "code",
   "execution_count": 10,
   "id": "007fc69b",
   "metadata": {},
   "outputs": [],
   "source": [
    "age=float"
   ]
  },
  {
   "cell_type": "code",
   "execution_count": 11,
   "id": "54523f46",
   "metadata": {},
   "outputs": [
    {
     "name": "stdout",
     "output_type": "stream",
     "text": [
      "enter your nameshahid\n",
      "enter your age25\n",
      "enter yor degreebs cs\n",
      "enter your job titlesoft dev\n",
      "hello shahid, hope your good, your age is 25, your degree is bs cs and, yor job title is soft dev \n"
     ]
    }
   ],
   "source": [
    "name=input(\"enter your name\")\n",
    "age=int(input(\"enter your age\"))\n",
    "degree=str(input(\"enter yor degree\"))\n",
    "job_title=input(\"enter your job title\")\n",
    "\n",
    "print(f\"hello {name}, hope your good, your age is {age}, your degree is {degree} and, yor job title is {job_title} \"\")"
   ]
  },
  {
   "cell_type": "markdown",
   "id": "cc5f30cd",
   "metadata": {},
   "source": [
    "# formating\n",
    "names=['ali', 'khan', 'ahmad']\n",
    "ages=[20,34,23]\n",
    "degrees=['Bs','Bs', 'Bs']\n",
    "jobs =['Eng', 'Dev', 'Teacher']\n",
    "\n",
    "for i in range(3):\n",
    "    print(f\"hello {names[i]}, hope your good, your age is {ages[i]}, your degree is {degrees[i]}, your job is {jobs[i]}.\")"
   ]
  },
  {
   "cell_type": "code",
   "execution_count": 16,
   "id": "7b9d2ec6",
   "metadata": {},
   "outputs": [
    {
     "name": "stdout",
     "output_type": "stream",
     "text": [
      "hello ali, hope your good, your age is 20, your degree is Bs, your job is Eng.\n",
      "hello khan, hope your good, your age is 34, your degree is Bs, your job is Dev.\n",
      "hello ahmad, hope your good, your age is 23, your degree is Bs, your job is Teacher.\n"
     ]
    }
   ],
   "source": [
    "names=['ali', 'khan', 'ahmad']\n",
    "ages=[20,34,23] \n",
    "degrees=['Bs','Bs', 'Bs'] \n",
    "jobs =['Eng', 'Dev', 'Teacher']\n",
    "\n",
    "for i in range(3): \n",
    "    print(f\"hello {names[i]}, hope your good, your age is {ages[i]}, your degree is {degrees[i]}, your job is {jobs[i]}.\")\n"
   ]
  },
  {
   "cell_type": "markdown",
   "id": "80e1bfa3",
   "metadata": {},
   "source": [
    "# Loops in python"
   ]
  },
  {
   "cell_type": "code",
   "execution_count": 18,
   "id": "df341132",
   "metadata": {},
   "outputs": [
    {
     "name": "stdout",
     "output_type": "stream",
     "text": [
      "0\n",
      "1\n",
      "2\n",
      "3\n",
      "4\n",
      "5\n",
      "6\n",
      "7\n",
      "8\n",
      "9\n",
      "10\n",
      "11\n"
     ]
    }
   ],
   "source": [
    "for i in range(0,12):\n",
    "    print(i)"
   ]
  },
  {
   "cell_type": "code",
   "execution_count": 20,
   "id": "5efbf7f8",
   "metadata": {},
   "outputs": [
    {
     "name": "stdout",
     "output_type": "stream",
     "text": [
      "enter any number4\n",
      "4 * 0 = 0\n",
      "4 * 1 = 4\n",
      "4 * 2 = 8\n",
      "4 * 3 = 12\n",
      "4 * 4 = 16\n",
      "4 * 5 = 20\n",
      "4 * 6 = 24\n",
      "4 * 7 = 28\n",
      "4 * 8 = 32\n",
      "4 * 9 = 36\n",
      "4 * 10 = 40\n"
     ]
    }
   ],
   "source": [
    "table=int(input(\"enter any number\"))\n",
    "for i in range(0,11):\n",
    "    print(f\"{table} * {i} = {table * i}\")"
   ]
  },
  {
   "cell_type": "code",
   "execution_count": 43,
   "id": "398f19ee",
   "metadata": {},
   "outputs": [
    {
     "name": "stdout",
     "output_type": "stream",
     "text": [
      "enter any number6\n",
      "6 * 1 = 6\n",
      "6 * 2 = 12\n",
      "6 * 3 = 18\n",
      "6 * 4 = 24\n",
      "6 * 5 = 30\n",
      "6 * 6 = 36\n",
      "6 * 7 = 42\n",
      "6 * 9 = 54\n",
      "6 * 10 = 60\n"
     ]
    }
   ],
   "source": [
    "table=int(input(\"enter any number\"))\n",
    "for i in range(1,11):\n",
    "    if i == 8:\n",
    "        continue\n",
    "    else:    \n",
    "        print(f\"{table} * {i} = {table * i}\")"
   ]
  },
  {
   "cell_type": "code",
   "execution_count": 25,
   "id": "b7eb2ba5",
   "metadata": {},
   "outputs": [
    {
     "name": "stdout",
     "output_type": "stream",
     "text": [
      "Enter any number5\n",
      "*\n",
      "**\n",
      "***\n",
      "****\n"
     ]
    }
   ],
   "source": [
    "# This is loop for showing this pattern *\n",
    "num = int(input(\"Enter any number\"))\n",
    "for i in range(1,num):\n",
    "    print(\"*\" * i)"
   ]
  },
  {
   "cell_type": "code",
   "execution_count": 34,
   "id": "5d644ed9",
   "metadata": {},
   "outputs": [
    {
     "name": "stdout",
     "output_type": "stream",
     "text": [
      "Enter any number10\n",
      "**********\n",
      "*********\n",
      "********\n",
      "*******\n",
      "******\n",
      "*****\n",
      "****\n",
      "***\n",
      "**\n",
      "*\n"
     ]
    }
   ],
   "source": [
    "num = int(input(\"Enter any number\"))\n",
    "for i in range(num,0,-1):\n",
    "    print(\"*\" * i)"
   ]
  },
  {
   "cell_type": "code",
   "execution_count": 41,
   "id": "eb564d44",
   "metadata": {},
   "outputs": [
    {
     "name": "stdout",
     "output_type": "stream",
     "text": [
      "The 1 number is odd\n",
      "The 2 number is even\n",
      "The 3 number is odd\n",
      "The 4 number is even\n",
      "The 5 number is odd\n",
      "The 6 number is even\n",
      "The 7 number is odd\n",
      "The 8 number is even\n",
      "The 9 number is odd\n",
      "The 10 number is even\n"
     ]
    }
   ],
   "source": [
    "\n",
    "for i in range(1,11):\n",
    "    if(i%2==0):\n",
    "        print(f\"The {i} number is even\")\n",
    "    else:\n",
    "        print(f\"The {i} number is odd\")"
   ]
  },
  {
   "cell_type": "code",
   "execution_count": 51,
   "id": "d7d3b9dd",
   "metadata": {},
   "outputs": [
    {
     "name": "stdout",
     "output_type": "stream",
     "text": [
      "Enter any number16\n",
      "1 \n",
      "1 2 \n",
      "1 2 3 \n",
      "1 2 3 4 \n",
      "1 2 3 4 5 \n",
      "1 2 3 4 5 6 \n",
      "1 2 3 4 5 6 7 \n",
      "1 2 3 4 5 6 7 8 \n",
      "1 2 3 4 5 6 7 8 9 \n",
      "1 2 3 4 5 6 7 8 9 10 \n",
      "1 2 3 4 5 6 7 8 9 10 11 \n",
      "1 2 3 4 5 6 7 8 9 10 11 12 \n",
      "1 2 3 4 5 6 7 8 9 10 11 12 13 \n",
      "1 2 3 4 5 6 7 8 9 10 11 12 13 14 \n",
      "1 2 3 4 5 6 7 8 9 10 11 12 13 14 15 \n"
     ]
    }
   ],
   "source": [
    "number = int(input(\"Enter any number\"))\n",
    "for i in range(1, number):\n",
    "    for k in range(1,i+1):\n",
    "        print(k,  end=\" \")\n",
    "    print()"
   ]
  },
  {
   "cell_type": "code",
   "execution_count": 58,
   "id": "9c7af680",
   "metadata": {},
   "outputs": [
    {
     "name": "stdout",
     "output_type": "stream",
     "text": [
      "Enter marks of sub150\n",
      "Enter marks of sub290\n",
      "Enter marks of sub378\n",
      "Enter marks of sub467\n",
      "Enter marks of sub559\n",
      "Your total marks is 344\n",
      "Your avrge is 68.8\n",
      "Your grand is B+\n",
      "Enter 0 for exit0\n"
     ]
    }
   ],
   "source": [
    "while True:\n",
    "    sub1 = int(input(\"Enter marks of sub1\"))\n",
    "    sub2 = int(input(\"Enter marks of sub2\"))\n",
    "    sub3 = int(input(\"Enter marks of sub3\"))\n",
    "    sub4 = int(input(\"Enter marks of sub4\"))\n",
    "    sub5 = int(input(\"Enter marks of sub5\"))\n",
    "    tot_mrk = 500\n",
    "    obt_mrk = sub1+sub2+sub3+sub4+sub5\n",
    "    avg = (obt_mrk/tot_mrk)*100\n",
    "    print(\"Your total marks is\", obt_mrk)\n",
    "    print(\"Your avrge is\", avg)\n",
    "    if(avg>30 and avg<=40):\n",
    "        print(\"Your are just pass\")\n",
    "    elif(avg>40 and avg<=60):\n",
    "        print(\"Your Grad is B\")\n",
    "    elif(avg>60 and avg<=80):\n",
    "        print(\"Your grand is B+\")\n",
    "    elif(avg>80 and avg<=90):\n",
    "        print(\"Your grand is A\")\n",
    "    else:\n",
    "        print(\"Your grad is exlent\")\n",
    "        \n",
    "    permission = int(input(\"Enter 0 for exit\"))\n",
    "    if permission==0:\n",
    "        break\n",
    "\n"
   ]
  },
  {
   "cell_type": "markdown",
   "id": "2a1fbd55",
   "metadata": {},
   "source": [
    "# Function "
   ]
  },
  {
   "cell_type": "code",
   "execution_count": 59,
   "id": "ec1bce49",
   "metadata": {},
   "outputs": [
    {
     "name": "stdout",
     "output_type": "stream",
     "text": [
      "Hi Ali\n"
     ]
    }
   ],
   "source": [
    "def funtion(name):\n",
    "    print(\"Hi\", name)\n",
    "funtion(\"Ali\")"
   ]
  },
  {
   "cell_type": "code",
   "execution_count": 60,
   "id": "93883964",
   "metadata": {},
   "outputs": [
    {
     "name": "stdout",
     "output_type": "stream",
     "text": [
      "Hello Ali, How are you doing\n"
     ]
    }
   ],
   "source": [
    "def greeting(name):\n",
    "    print(f\"Hello {name}, How are you doing\")\n",
    "greeting(\"Ali\")"
   ]
  },
  {
   "cell_type": "code",
   "execution_count": null,
   "id": "2cae9a59",
   "metadata": {},
   "outputs": [],
   "source": [
    "def hupoth"
   ]
  }
 ],
 "metadata": {
  "kernelspec": {
   "display_name": "Python 3 (ipykernel)",
   "language": "python",
   "name": "python3"
  },
  "language_info": {
   "codemirror_mode": {
    "name": "ipython",
    "version": 3
   },
   "file_extension": ".py",
   "mimetype": "text/x-python",
   "name": "python",
   "nbconvert_exporter": "python",
   "pygments_lexer": "ipython3",
   "version": "3.9.12"
  }
 },
 "nbformat": 4,
 "nbformat_minor": 5
}
